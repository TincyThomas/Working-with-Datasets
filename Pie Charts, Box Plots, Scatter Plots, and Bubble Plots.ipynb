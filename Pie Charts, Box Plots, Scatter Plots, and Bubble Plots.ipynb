{
 "cells": [
  {
   "cell_type": "markdown",
   "metadata": {
    "button": false,
    "new_sheet": false,
    "run_control": {
     "read_only": false
    }
   },
   "source": [
    "<center>\n",
    "    <img src=\"https://cf-courses-data.s3.us.cloud-object-storage.appdomain.cloud/IBMDeveloperSkillsNetwork-DV0101EN-SkillsNetwork/labs/Module%203/images/IDSNlogo.png\" width=\"300\" alt=\"cognitiveclass.ai logo\"  />\n",
    "</center>\n",
    "\n",
    "# Pie Charts, Box Plots, Scatter Plots, and Bubble Plots\n",
    "\n",
    "Estimated time needed: **30** minutes\n",
    "\n",
    "## Objectives\n",
    "\n",
    "After completing this lab you will be able to:\n",
    "\n",
    "*   Explore Matplotlib library further\n",
    "*   Create pie charts, box plots, scatter plots and bubble charts\n"
   ]
  },
  {
   "cell_type": "markdown",
   "metadata": {
    "button": false,
    "new_sheet": false,
    "run_control": {
     "read_only": false
    }
   },
   "source": [
    "## Table of Contents\n",
    "\n",
    "<div class=\"alert alert-block alert-info\" style=\"margin-top: 20px\">\n",
    "\n",
    "1.  [Exploring Datasets with *p*andas](#0)<br>\n",
    "2.  [Downloading and Prepping Data](#2)<br>\n",
    "3.  [Visualizing Data using Matplotlib](#4) <br>\n",
    "4.  [Pie Charts](#6) <br>\n",
    "5.  [Box Plots](#8) <br>\n",
    "6.  [Scatter Plots](#10) <br>\n",
    "7.  [Bubble Plots](#12) <br>\n",
    "\n",
    "</div>\n"
   ]
  },
  {
   "cell_type": "markdown",
   "metadata": {
    "button": false,
    "new_sheet": false,
    "run_control": {
     "read_only": false
    }
   },
   "source": [
    "# Exploring Datasets with *pandas* and Matplotlib<a id=\"0\"></a>\n",
    "\n",
    "Toolkits: The course heavily relies on [*pandas*](http://pandas.pydata.org/?utm_medium=Exinfluencer&utm_source=Exinfluencer&utm_content=000026UJ&utm_term=10006555&utm_id=NA-SkillsNetwork-Channel-SkillsNetworkCoursesIBMDeveloperSkillsNetworkDV0101ENSkillsNetwork20297740-2021-01-01) and [**Numpy**](http://www.numpy.org/?utm_medium=Exinfluencer&utm_source=Exinfluencer&utm_content=000026UJ&utm_term=10006555&utm_id=NA-SkillsNetwork-Channel-SkillsNetworkCoursesIBMDeveloperSkillsNetworkDV0101ENSkillsNetwork20297740-2021-01-01) for data wrangling, analysis, and visualization. The primary plotting library we will explore in the course is [Matplotlib](http://matplotlib.org/?utm_medium=Exinfluencer&utm_source=Exinfluencer&utm_content=000026UJ&utm_term=10006555&utm_id=NA-SkillsNetwork-Channel-SkillsNetworkCoursesIBMDeveloperSkillsNetworkDV0101ENSkillsNetwork20297740-2021-01-01).\n",
    "\n",
    "Dataset: Immigration to Canada from 1980 to 2013 - [International migration flows to and from selected countries - The 2015 revision](http://www.un.org/en/development/desa/population/migration/data/empirical2/migrationflows.shtml?utm_medium=Exinfluencer&utm_source=Exinfluencer&utm_content=000026UJ&utm_term=10006555&utm_id=NA-SkillsNetwork-Channel-SkillsNetworkCoursesIBMDeveloperSkillsNetworkDV0101ENSkillsNetwork20297740-2021-01-01) from United Nation's website.\n",
    "\n",
    "The dataset contains annual data on the flows of international migrants as recorded by the countries of destination. The data presents both inflows and outflows according to the place of birth, citizenship or place of previous / next residence both for foreigners and nationals. In this lab, we will focus on the Canadian Immigration data.\n"
   ]
  },
  {
   "cell_type": "markdown",
   "metadata": {
    "button": false,
    "new_sheet": false,
    "run_control": {
     "read_only": false
    }
   },
   "source": [
    "# Downloading and Prepping Data <a id=\"2\"></a>\n"
   ]
  },
  {
   "cell_type": "markdown",
   "metadata": {
    "button": false,
    "new_sheet": false,
    "run_control": {
     "read_only": false
    }
   },
   "source": [
    "Import primary modules.\n"
   ]
  },
  {
   "cell_type": "code",
   "execution_count": 8,
   "metadata": {
    "button": false,
    "collapsed": false,
    "jupyter": {
     "outputs_hidden": false
    },
    "new_sheet": false,
    "run_control": {
     "read_only": false
    }
   },
   "outputs": [],
   "source": [
    "import numpy as np  # useful for many scientific computing in Python\n",
    "import pandas as pd # primary data structure library"
   ]
  },
  {
   "cell_type": "markdown",
   "metadata": {
    "button": false,
    "new_sheet": false,
    "run_control": {
     "read_only": false
    }
   },
   "source": [
    "Let's download and import our primary Canadian Immigration dataset using *pandas*'s `read_excel()` method. Normally, before we can do that, we would need to download a module which *pandas* requires reading in Excel files. This module was **openpyxl** (formerlly **xlrd**). For your convenience, we have pre-installed this module, so you would not have to worry about that. Otherwise, you would need to run the following line of code to install the **openpyxl** module:\n",
    "\n",
    "```\n",
    "! pip3 install openpyxl\n",
    "```\n"
   ]
  },
  {
   "cell_type": "markdown",
   "metadata": {
    "button": false,
    "new_sheet": false,
    "run_control": {
     "read_only": false
    }
   },
   "source": [
    "Download the dataset and read it into a *pandas* dataframe.\n"
   ]
  },
  {
   "cell_type": "code",
   "execution_count": 9,
   "metadata": {
    "button": false,
    "collapsed": false,
    "jupyter": {
     "outputs_hidden": false
    },
    "new_sheet": false,
    "run_control": {
     "read_only": false
    }
   },
   "outputs": [
    {
     "name": "stdout",
     "output_type": "stream",
     "text": [
      "Data downloaded and read into a dataframe!\n"
     ]
    }
   ],
   "source": [
    "df_can = pd.read_excel(\n",
    "    'https://cf-courses-data.s3.us.cloud-object-storage.appdomain.cloud/IBMDeveloperSkillsNetwork-DV0101EN-SkillsNetwork/Data%20Files/Canada.xlsx',\n",
    "    sheet_name='Canada by Citizenship',\n",
    "    skiprows=range(20),\n",
    "    skipfooter=2\n",
    "    )\n",
    "\n",
    "print('Data downloaded and read into a dataframe!')"
   ]
  },
  {
   "cell_type": "markdown",
   "metadata": {
    "button": false,
    "new_sheet": false,
    "run_control": {
     "read_only": false
    }
   },
   "source": [
    "Let's take a look at the first five items in our dataset.\n"
   ]
  },
  {
   "cell_type": "code",
   "execution_count": 3,
   "metadata": {
    "button": false,
    "collapsed": false,
    "jupyter": {
     "outputs_hidden": false
    },
    "new_sheet": false,
    "run_control": {
     "read_only": false
    }
   },
   "outputs": [
    {
     "data": {
      "text/html": [
       "<div>\n",
       "<style scoped>\n",
       "    .dataframe tbody tr th:only-of-type {\n",
       "        vertical-align: middle;\n",
       "    }\n",
       "\n",
       "    .dataframe tbody tr th {\n",
       "        vertical-align: top;\n",
       "    }\n",
       "\n",
       "    .dataframe thead th {\n",
       "        text-align: right;\n",
       "    }\n",
       "</style>\n",
       "<table border=\"1\" class=\"dataframe\">\n",
       "  <thead>\n",
       "    <tr style=\"text-align: right;\">\n",
       "      <th></th>\n",
       "      <th>Type</th>\n",
       "      <th>Coverage</th>\n",
       "      <th>OdName</th>\n",
       "      <th>AREA</th>\n",
       "      <th>AreaName</th>\n",
       "      <th>REG</th>\n",
       "      <th>RegName</th>\n",
       "      <th>DEV</th>\n",
       "      <th>DevName</th>\n",
       "      <th>1980</th>\n",
       "      <th>...</th>\n",
       "      <th>2004</th>\n",
       "      <th>2005</th>\n",
       "      <th>2006</th>\n",
       "      <th>2007</th>\n",
       "      <th>2008</th>\n",
       "      <th>2009</th>\n",
       "      <th>2010</th>\n",
       "      <th>2011</th>\n",
       "      <th>2012</th>\n",
       "      <th>2013</th>\n",
       "    </tr>\n",
       "  </thead>\n",
       "  <tbody>\n",
       "    <tr>\n",
       "      <th>0</th>\n",
       "      <td>Immigrants</td>\n",
       "      <td>Foreigners</td>\n",
       "      <td>Afghanistan</td>\n",
       "      <td>935</td>\n",
       "      <td>Asia</td>\n",
       "      <td>5501</td>\n",
       "      <td>Southern Asia</td>\n",
       "      <td>902</td>\n",
       "      <td>Developing regions</td>\n",
       "      <td>16</td>\n",
       "      <td>...</td>\n",
       "      <td>2978</td>\n",
       "      <td>3436</td>\n",
       "      <td>3009</td>\n",
       "      <td>2652</td>\n",
       "      <td>2111</td>\n",
       "      <td>1746</td>\n",
       "      <td>1758</td>\n",
       "      <td>2203</td>\n",
       "      <td>2635</td>\n",
       "      <td>2004</td>\n",
       "    </tr>\n",
       "    <tr>\n",
       "      <th>1</th>\n",
       "      <td>Immigrants</td>\n",
       "      <td>Foreigners</td>\n",
       "      <td>Albania</td>\n",
       "      <td>908</td>\n",
       "      <td>Europe</td>\n",
       "      <td>925</td>\n",
       "      <td>Southern Europe</td>\n",
       "      <td>901</td>\n",
       "      <td>Developed regions</td>\n",
       "      <td>1</td>\n",
       "      <td>...</td>\n",
       "      <td>1450</td>\n",
       "      <td>1223</td>\n",
       "      <td>856</td>\n",
       "      <td>702</td>\n",
       "      <td>560</td>\n",
       "      <td>716</td>\n",
       "      <td>561</td>\n",
       "      <td>539</td>\n",
       "      <td>620</td>\n",
       "      <td>603</td>\n",
       "    </tr>\n",
       "    <tr>\n",
       "      <th>2</th>\n",
       "      <td>Immigrants</td>\n",
       "      <td>Foreigners</td>\n",
       "      <td>Algeria</td>\n",
       "      <td>903</td>\n",
       "      <td>Africa</td>\n",
       "      <td>912</td>\n",
       "      <td>Northern Africa</td>\n",
       "      <td>902</td>\n",
       "      <td>Developing regions</td>\n",
       "      <td>80</td>\n",
       "      <td>...</td>\n",
       "      <td>3616</td>\n",
       "      <td>3626</td>\n",
       "      <td>4807</td>\n",
       "      <td>3623</td>\n",
       "      <td>4005</td>\n",
       "      <td>5393</td>\n",
       "      <td>4752</td>\n",
       "      <td>4325</td>\n",
       "      <td>3774</td>\n",
       "      <td>4331</td>\n",
       "    </tr>\n",
       "    <tr>\n",
       "      <th>3</th>\n",
       "      <td>Immigrants</td>\n",
       "      <td>Foreigners</td>\n",
       "      <td>American Samoa</td>\n",
       "      <td>909</td>\n",
       "      <td>Oceania</td>\n",
       "      <td>957</td>\n",
       "      <td>Polynesia</td>\n",
       "      <td>902</td>\n",
       "      <td>Developing regions</td>\n",
       "      <td>0</td>\n",
       "      <td>...</td>\n",
       "      <td>0</td>\n",
       "      <td>0</td>\n",
       "      <td>1</td>\n",
       "      <td>0</td>\n",
       "      <td>0</td>\n",
       "      <td>0</td>\n",
       "      <td>0</td>\n",
       "      <td>0</td>\n",
       "      <td>0</td>\n",
       "      <td>0</td>\n",
       "    </tr>\n",
       "    <tr>\n",
       "      <th>4</th>\n",
       "      <td>Immigrants</td>\n",
       "      <td>Foreigners</td>\n",
       "      <td>Andorra</td>\n",
       "      <td>908</td>\n",
       "      <td>Europe</td>\n",
       "      <td>925</td>\n",
       "      <td>Southern Europe</td>\n",
       "      <td>901</td>\n",
       "      <td>Developed regions</td>\n",
       "      <td>0</td>\n",
       "      <td>...</td>\n",
       "      <td>0</td>\n",
       "      <td>0</td>\n",
       "      <td>1</td>\n",
       "      <td>1</td>\n",
       "      <td>0</td>\n",
       "      <td>0</td>\n",
       "      <td>0</td>\n",
       "      <td>0</td>\n",
       "      <td>1</td>\n",
       "      <td>1</td>\n",
       "    </tr>\n",
       "  </tbody>\n",
       "</table>\n",
       "<p>5 rows × 43 columns</p>\n",
       "</div>"
      ],
      "text/plain": [
       "         Type    Coverage          OdName  AREA AreaName   REG  \\\n",
       "0  Immigrants  Foreigners     Afghanistan   935     Asia  5501   \n",
       "1  Immigrants  Foreigners         Albania   908   Europe   925   \n",
       "2  Immigrants  Foreigners         Algeria   903   Africa   912   \n",
       "3  Immigrants  Foreigners  American Samoa   909  Oceania   957   \n",
       "4  Immigrants  Foreigners         Andorra   908   Europe   925   \n",
       "\n",
       "           RegName  DEV             DevName  1980  ...  2004  2005  2006  \\\n",
       "0    Southern Asia  902  Developing regions    16  ...  2978  3436  3009   \n",
       "1  Southern Europe  901   Developed regions     1  ...  1450  1223   856   \n",
       "2  Northern Africa  902  Developing regions    80  ...  3616  3626  4807   \n",
       "3        Polynesia  902  Developing regions     0  ...     0     0     1   \n",
       "4  Southern Europe  901   Developed regions     0  ...     0     0     1   \n",
       "\n",
       "   2007  2008  2009  2010  2011  2012  2013  \n",
       "0  2652  2111  1746  1758  2203  2635  2004  \n",
       "1   702   560   716   561   539   620   603  \n",
       "2  3623  4005  5393  4752  4325  3774  4331  \n",
       "3     0     0     0     0     0     0     0  \n",
       "4     1     0     0     0     0     1     1  \n",
       "\n",
       "[5 rows x 43 columns]"
      ]
     },
     "execution_count": 3,
     "metadata": {},
     "output_type": "execute_result"
    }
   ],
   "source": [
    "df_can.head()"
   ]
  },
  {
   "cell_type": "markdown",
   "metadata": {
    "button": false,
    "new_sheet": false,
    "run_control": {
     "read_only": false
    }
   },
   "source": [
    "Let's find out how many entries there are in our dataset.\n"
   ]
  },
  {
   "cell_type": "code",
   "execution_count": 10,
   "metadata": {
    "button": false,
    "collapsed": false,
    "jupyter": {
     "outputs_hidden": false
    },
    "new_sheet": false,
    "run_control": {
     "read_only": false
    }
   },
   "outputs": [
    {
     "name": "stdout",
     "output_type": "stream",
     "text": [
      "(195, 43)\n"
     ]
    }
   ],
   "source": [
    "# print the dimensions of the dataframe\n",
    "print(df_can.shape)"
   ]
  },
  {
   "cell_type": "markdown",
   "metadata": {
    "button": false,
    "new_sheet": false,
    "run_control": {
     "read_only": false
    }
   },
   "source": [
    "Clean up data. We will make some modifications to the original dataset to make it easier to create our visualizations. Refer to *Introduction to Matplotlib and Line Plots* and *Area Plots, Histograms, and Bar Plots* for a detailed description of this preprocessing.\n"
   ]
  },
  {
   "cell_type": "code",
   "execution_count": 11,
   "metadata": {
    "button": false,
    "collapsed": false,
    "jupyter": {
     "outputs_hidden": false
    },
    "new_sheet": false,
    "run_control": {
     "read_only": false
    }
   },
   "outputs": [
    {
     "name": "stdout",
     "output_type": "stream",
     "text": [
      "data dimensions: (195, 38)\n"
     ]
    }
   ],
   "source": [
    "# clean up the dataset to remove unnecessary columns (eg. REG) \n",
    "df_can.drop(['AREA', 'REG', 'DEV', 'Type', 'Coverage'], axis=1, inplace=True)\n",
    "\n",
    "# let's rename the columns so that they make sense\n",
    "df_can.rename(columns={'OdName':'Country', 'AreaName':'Continent','RegName':'Region'}, inplace=True)\n",
    "\n",
    "# for sake of consistency, let's also make all column labels of type string\n",
    "df_can.columns = list(map(str, df_can.columns))\n",
    "\n",
    "# set the country name as index - useful for quickly looking up countries using .loc method\n",
    "df_can.set_index('Country', inplace=True)\n",
    "\n",
    "# add total column\n",
    "df_can['Total'] = df_can.sum(axis=1)\n",
    "\n",
    "# years that we will be using in this lesson - useful for plotting later on\n",
    "years = list(map(str, range(1980, 2014)))\n",
    "print('data dimensions:', df_can.shape)"
   ]
  },
  {
   "cell_type": "markdown",
   "metadata": {
    "button": false,
    "new_sheet": false,
    "run_control": {
     "read_only": false
    }
   },
   "source": [
    "# Visualizing Data using Matplotlib<a id=\"4\"></a>\n"
   ]
  },
  {
   "cell_type": "markdown",
   "metadata": {
    "button": false,
    "new_sheet": false,
    "run_control": {
     "read_only": false
    }
   },
   "source": [
    "Import `Matplotlib`.\n"
   ]
  },
  {
   "cell_type": "code",
   "execution_count": 12,
   "metadata": {
    "button": false,
    "collapsed": false,
    "jupyter": {
     "outputs_hidden": false
    },
    "new_sheet": false,
    "run_control": {
     "read_only": false
    }
   },
   "outputs": [
    {
     "name": "stdout",
     "output_type": "stream",
     "text": [
      "Matplotlib version:  3.3.4\n"
     ]
    }
   ],
   "source": [
    "%matplotlib inline\n",
    "\n",
    "import matplotlib as mpl\n",
    "import matplotlib.pyplot as plt\n",
    "\n",
    "mpl.style.use('ggplot') # optional: for ggplot-like style\n",
    "\n",
    "# check for latest version of Matplotlib\n",
    "print('Matplotlib version: ', mpl.__version__) # >= 2.0.0"
   ]
  },
  {
   "cell_type": "markdown",
   "metadata": {
    "button": false,
    "new_sheet": false,
    "run_control": {
     "read_only": false
    }
   },
   "source": [
    "# Pie Charts <a id=\"6\"></a>\n",
    "\n",
    "A `pie chart` is a circular graphic that displays numeric proportions by dividing a circle (or pie) into proportional slices. You are most likely already familiar with pie charts as it is widely used in business and media. We can create pie charts in Matplotlib by passing in the `kind=pie` keyword.\n",
    "\n",
    "Let's use a pie chart to explore the proportion (percentage) of new immigrants grouped by continents for the entire time period from 1980 to 2013.\n"
   ]
  },
  {
   "cell_type": "markdown",
   "metadata": {
    "button": false,
    "new_sheet": false,
    "run_control": {
     "read_only": false
    }
   },
   "source": [
    "Step 1: Gather data.\n",
    "\n",
    "We will use *pandas* `groupby` method to summarize the immigration data by `Continent`. The general process of `groupby` involves the following steps:\n",
    "\n",
    "1.  **Split:** Splitting the data into groups based on some criteria.\n",
    "2.  **Apply:** Applying a function to each group independently:\n",
    "    .sum()\n",
    "    .count()\n",
    "    .mean()\n",
    "    .std()\n",
    "    .aggregate()\n",
    "    .apply()\n",
    "    .etc..\n",
    "3.  **Combine:** Combining the results into a data structure.\n"
   ]
  },
  {
   "cell_type": "markdown",
   "metadata": {
    "button": false,
    "new_sheet": false,
    "run_control": {
     "read_only": false
    }
   },
   "source": [
    "<img src=\"https://cf-courses-data.s3.us.cloud-object-storage.appdomain.cloud/IBMDeveloperSkillsNetwork-DV0101EN-SkillsNetwork/labs/Module%203/images/Mod3Fig4SplitApplyCombine.png\" height=400 align=\"center\">\n"
   ]
  },
  {
   "cell_type": "code",
   "execution_count": 13,
   "metadata": {
    "button": false,
    "collapsed": false,
    "jupyter": {
     "outputs_hidden": false
    },
    "new_sheet": false,
    "run_control": {
     "read_only": false
    }
   },
   "outputs": [
    {
     "name": "stdout",
     "output_type": "stream",
     "text": [
      "pandas.core.groupby.generic.DataFrameGroupBy\n"
     ]
    },
    {
     "data": {
      "text/html": [
       "<div>\n",
       "<style scoped>\n",
       "    .dataframe tbody tr th:only-of-type {\n",
       "        vertical-align: middle;\n",
       "    }\n",
       "\n",
       "    .dataframe tbody tr th {\n",
       "        vertical-align: top;\n",
       "    }\n",
       "\n",
       "    .dataframe thead th {\n",
       "        text-align: right;\n",
       "    }\n",
       "</style>\n",
       "<table border=\"1\" class=\"dataframe\">\n",
       "  <thead>\n",
       "    <tr style=\"text-align: right;\">\n",
       "      <th></th>\n",
       "      <th>1980</th>\n",
       "      <th>1981</th>\n",
       "      <th>1982</th>\n",
       "      <th>1983</th>\n",
       "      <th>1984</th>\n",
       "      <th>1985</th>\n",
       "      <th>1986</th>\n",
       "      <th>1987</th>\n",
       "      <th>1988</th>\n",
       "      <th>1989</th>\n",
       "      <th>...</th>\n",
       "      <th>2005</th>\n",
       "      <th>2006</th>\n",
       "      <th>2007</th>\n",
       "      <th>2008</th>\n",
       "      <th>2009</th>\n",
       "      <th>2010</th>\n",
       "      <th>2011</th>\n",
       "      <th>2012</th>\n",
       "      <th>2013</th>\n",
       "      <th>Total</th>\n",
       "    </tr>\n",
       "    <tr>\n",
       "      <th>Continent</th>\n",
       "      <th></th>\n",
       "      <th></th>\n",
       "      <th></th>\n",
       "      <th></th>\n",
       "      <th></th>\n",
       "      <th></th>\n",
       "      <th></th>\n",
       "      <th></th>\n",
       "      <th></th>\n",
       "      <th></th>\n",
       "      <th></th>\n",
       "      <th></th>\n",
       "      <th></th>\n",
       "      <th></th>\n",
       "      <th></th>\n",
       "      <th></th>\n",
       "      <th></th>\n",
       "      <th></th>\n",
       "      <th></th>\n",
       "      <th></th>\n",
       "      <th></th>\n",
       "    </tr>\n",
       "  </thead>\n",
       "  <tbody>\n",
       "    <tr>\n",
       "      <th>Africa</th>\n",
       "      <td>3951</td>\n",
       "      <td>4363</td>\n",
       "      <td>3819</td>\n",
       "      <td>2671</td>\n",
       "      <td>2639</td>\n",
       "      <td>2650</td>\n",
       "      <td>3782</td>\n",
       "      <td>7494</td>\n",
       "      <td>7552</td>\n",
       "      <td>9894</td>\n",
       "      <td>...</td>\n",
       "      <td>27523</td>\n",
       "      <td>29188</td>\n",
       "      <td>28284</td>\n",
       "      <td>29890</td>\n",
       "      <td>34534</td>\n",
       "      <td>40892</td>\n",
       "      <td>35441</td>\n",
       "      <td>38083</td>\n",
       "      <td>38543</td>\n",
       "      <td>618948</td>\n",
       "    </tr>\n",
       "    <tr>\n",
       "      <th>Asia</th>\n",
       "      <td>31025</td>\n",
       "      <td>34314</td>\n",
       "      <td>30214</td>\n",
       "      <td>24696</td>\n",
       "      <td>27274</td>\n",
       "      <td>23850</td>\n",
       "      <td>28739</td>\n",
       "      <td>43203</td>\n",
       "      <td>47454</td>\n",
       "      <td>60256</td>\n",
       "      <td>...</td>\n",
       "      <td>159253</td>\n",
       "      <td>149054</td>\n",
       "      <td>133459</td>\n",
       "      <td>139894</td>\n",
       "      <td>141434</td>\n",
       "      <td>163845</td>\n",
       "      <td>146894</td>\n",
       "      <td>152218</td>\n",
       "      <td>155075</td>\n",
       "      <td>3317794</td>\n",
       "    </tr>\n",
       "    <tr>\n",
       "      <th>Europe</th>\n",
       "      <td>39760</td>\n",
       "      <td>44802</td>\n",
       "      <td>42720</td>\n",
       "      <td>24638</td>\n",
       "      <td>22287</td>\n",
       "      <td>20844</td>\n",
       "      <td>24370</td>\n",
       "      <td>46698</td>\n",
       "      <td>54726</td>\n",
       "      <td>60893</td>\n",
       "      <td>...</td>\n",
       "      <td>35955</td>\n",
       "      <td>33053</td>\n",
       "      <td>33495</td>\n",
       "      <td>34692</td>\n",
       "      <td>35078</td>\n",
       "      <td>33425</td>\n",
       "      <td>26778</td>\n",
       "      <td>29177</td>\n",
       "      <td>28691</td>\n",
       "      <td>1410947</td>\n",
       "    </tr>\n",
       "    <tr>\n",
       "      <th>Latin America and the Caribbean</th>\n",
       "      <td>13081</td>\n",
       "      <td>15215</td>\n",
       "      <td>16769</td>\n",
       "      <td>15427</td>\n",
       "      <td>13678</td>\n",
       "      <td>15171</td>\n",
       "      <td>21179</td>\n",
       "      <td>28471</td>\n",
       "      <td>21924</td>\n",
       "      <td>25060</td>\n",
       "      <td>...</td>\n",
       "      <td>24747</td>\n",
       "      <td>24676</td>\n",
       "      <td>26011</td>\n",
       "      <td>26547</td>\n",
       "      <td>26867</td>\n",
       "      <td>28818</td>\n",
       "      <td>27856</td>\n",
       "      <td>27173</td>\n",
       "      <td>24950</td>\n",
       "      <td>765148</td>\n",
       "    </tr>\n",
       "    <tr>\n",
       "      <th>Northern America</th>\n",
       "      <td>9378</td>\n",
       "      <td>10030</td>\n",
       "      <td>9074</td>\n",
       "      <td>7100</td>\n",
       "      <td>6661</td>\n",
       "      <td>6543</td>\n",
       "      <td>7074</td>\n",
       "      <td>7705</td>\n",
       "      <td>6469</td>\n",
       "      <td>6790</td>\n",
       "      <td>...</td>\n",
       "      <td>8394</td>\n",
       "      <td>9613</td>\n",
       "      <td>9463</td>\n",
       "      <td>10190</td>\n",
       "      <td>8995</td>\n",
       "      <td>8142</td>\n",
       "      <td>7677</td>\n",
       "      <td>7892</td>\n",
       "      <td>8503</td>\n",
       "      <td>241142</td>\n",
       "    </tr>\n",
       "  </tbody>\n",
       "</table>\n",
       "<p>5 rows × 35 columns</p>\n",
       "</div>"
      ],
      "text/plain": [
       "                                  1980   1981   1982   1983   1984   1985  \\\n",
       "Continent                                                                   \n",
       "Africa                            3951   4363   3819   2671   2639   2650   \n",
       "Asia                             31025  34314  30214  24696  27274  23850   \n",
       "Europe                           39760  44802  42720  24638  22287  20844   \n",
       "Latin America and the Caribbean  13081  15215  16769  15427  13678  15171   \n",
       "Northern America                  9378  10030   9074   7100   6661   6543   \n",
       "\n",
       "                                  1986   1987   1988   1989  ...    2005  \\\n",
       "Continent                                                    ...           \n",
       "Africa                            3782   7494   7552   9894  ...   27523   \n",
       "Asia                             28739  43203  47454  60256  ...  159253   \n",
       "Europe                           24370  46698  54726  60893  ...   35955   \n",
       "Latin America and the Caribbean  21179  28471  21924  25060  ...   24747   \n",
       "Northern America                  7074   7705   6469   6790  ...    8394   \n",
       "\n",
       "                                   2006    2007    2008    2009    2010  \\\n",
       "Continent                                                                 \n",
       "Africa                            29188   28284   29890   34534   40892   \n",
       "Asia                             149054  133459  139894  141434  163845   \n",
       "Europe                            33053   33495   34692   35078   33425   \n",
       "Latin America and the Caribbean   24676   26011   26547   26867   28818   \n",
       "Northern America                   9613    9463   10190    8995    8142   \n",
       "\n",
       "                                   2011    2012    2013    Total  \n",
       "Continent                                                         \n",
       "Africa                            35441   38083   38543   618948  \n",
       "Asia                             146894  152218  155075  3317794  \n",
       "Europe                            26778   29177   28691  1410947  \n",
       "Latin America and the Caribbean   27856   27173   24950   765148  \n",
       "Northern America                   7677    7892    8503   241142  \n",
       "\n",
       "[5 rows x 35 columns]"
      ]
     },
     "execution_count": 13,
     "metadata": {},
     "output_type": "execute_result"
    }
   ],
   "source": [
    "# group countries by continents and apply sum() function \n",
    "df_continents = df_can.groupby('Continent', axis=0).sum()\n",
    "\n",
    "# note: the output of the groupby method is a `groupby' object. \n",
    "# we can not use it further until we apply a function (eg .sum())\n",
    "print(type(df_can.groupby('Continent', axis=0)))\n",
    "\n",
    "df_continents.head()"
   ]
  },
  {
   "cell_type": "markdown",
   "metadata": {
    "button": false,
    "new_sheet": false,
    "run_control": {
     "read_only": false
    }
   },
   "source": [
    "Step 2: Plot the data. We will pass in `kind = 'pie'` keyword, along with the following additional parameters:\n",
    "\n",
    "*   `autopct` -  is a string or function used to label the wedges with their numeric value. The label will be placed inside the wedge. If it is a format string, the label will be `fmt%pct`.\n",
    "*   `startangle` - rotates the start of the pie chart by angle degrees counterclockwise from the x-axis.\n",
    "*   `shadow` - Draws a shadow beneath the pie (to give a 3D feel).\n"
   ]
  },
  {
   "cell_type": "code",
   "execution_count": 14,
   "metadata": {
    "button": false,
    "collapsed": false,
    "jupyter": {
     "outputs_hidden": false
    },
    "new_sheet": false,
    "run_control": {
     "read_only": false
    }
   },
   "outputs": [
    {
     "data": {
      "image/png": "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\n",
      "text/plain": [
       "<Figure size 360x432 with 1 Axes>"
      ]
     },
     "metadata": {},
     "output_type": "display_data"
    }
   ],
   "source": [
    "# autopct create %, start angle represent starting point\n",
    "df_continents['Total'].plot(kind='pie',\n",
    "                            figsize=(5, 6),\n",
    "                            autopct='%1.1f%%', # add in percentages\n",
    "                            startangle=90,     # start angle 90° (Africa)\n",
    "                            shadow=True,       # add shadow      \n",
    "                            )\n",
    "\n",
    "plt.title('Immigration to Canada by Continent [1980 - 2013]')\n",
    "plt.axis('equal') # Sets the pie chart to look like a circle.\n",
    "\n",
    "plt.show()"
   ]
  },
  {
   "cell_type": "markdown",
   "metadata": {
    "button": false,
    "new_sheet": false,
    "run_control": {
     "read_only": false
    }
   },
   "source": [
    "The above visual is not very clear, the numbers and text overlap in some instances. Let's make a few modifications to improve the visuals:\n",
    "\n",
    "*   Remove the text labels on the pie chart by passing in `legend` and add it as a seperate legend using `plt.legend()`.\n",
    "*   Push out the percentages to sit just outside the pie chart by passing in `pctdistance` parameter.\n",
    "*   Pass in a custom set of colors for continents by passing in `colors` parameter.\n",
    "*   **Explode** the pie chart to emphasize the lowest three continents (Africa, North America, and Latin America and Caribbean) by passing in `explode` parameter.\n"
   ]
  },
  {
   "cell_type": "code",
   "execution_count": 15,
   "metadata": {
    "button": false,
    "collapsed": false,
    "jupyter": {
     "outputs_hidden": false
    },
    "new_sheet": false,
    "run_control": {
     "read_only": false
    }
   },
   "outputs": [
    {
     "data": {
      "image/png": "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\n",
      "text/plain": [
       "<Figure size 1080x432 with 1 Axes>"
      ]
     },
     "metadata": {},
     "output_type": "display_data"
    }
   ],
   "source": [
    "colors_list = ['gold', 'yellowgreen', 'lightcoral', 'lightskyblue', 'lightgreen', 'pink']\n",
    "explode_list = [0.1, 0, 0, 0, 0.1, 0.1] # ratio for each continent with which to offset each wedge.\n",
    "\n",
    "df_continents['Total'].plot(kind='pie',\n",
    "                            figsize=(15, 6),\n",
    "                            autopct='%1.1f%%', \n",
    "                            startangle=90,    \n",
    "                            shadow=True,       \n",
    "                            labels=None,         # turn off labels on pie chart\n",
    "                            pctdistance=1.12,    # the ratio between the center of each pie slice and the start of the text generated by autopct \n",
    "                            colors=colors_list,  # add custom colors\n",
    "                            explode=explode_list # 'explode' lowest 3 continents\n",
    "                            )\n",
    "\n",
    "# scale the title up by 12% to match pctdistance\n",
    "plt.title('Immigration to Canada by Continent [1980 - 2013]', y=1.12) \n",
    "\n",
    "plt.axis('equal') \n",
    "\n",
    "# add legend\n",
    "plt.legend(labels=df_continents.index, loc='upper left') \n",
    "\n",
    "plt.show()"
   ]
  },
  {
   "cell_type": "markdown",
   "metadata": {
    "button": false,
    "new_sheet": false,
    "run_control": {
     "read_only": false
    }
   },
   "source": [
    "**Question:** Using a pie chart, explore the proportion (percentage) of new immigrants grouped by continents in the year 2013.\n",
    "\n",
    "**Note**: You might need to play with the explore values in order to fix any overlapping slice values.\n"
   ]
  },
  {
   "cell_type": "code",
   "execution_count": 18,
   "metadata": {
    "button": false,
    "collapsed": false,
    "jupyter": {
     "outputs_hidden": false
    },
    "new_sheet": false,
    "run_control": {
     "read_only": false
    }
   },
   "outputs": [
    {
     "data": {
      "image/png": "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\n",
      "text/plain": [
       "<Figure size 1080x432 with 1 Axes>"
      ]
     },
     "metadata": {},
     "output_type": "display_data"
    }
   ],
   "source": [
    "### type your answer here\n",
    "explode_list = [0.0, 0, 0, 0.1, 0.1, 0.2] # ratio for each continent with which to offset each wedge.\n",
    "\n",
    "df_continents['2013'].plot(kind='pie',\n",
    "                                figsize=(15, 6),\n",
    "                                autopct='%1.1f%%', \n",
    "                                startangle=90,    \n",
    "                                shadow=True,       \n",
    "                                labels=None,                 # turn off labels on pie chart\n",
    "                                pctdistance=1.12,            # the ratio between the pie center and start of text label\n",
    "                                explode=explode_list         # 'explode' lowest 3 continents\n",
    "                                )\n",
    "\n",
    "    # scale the title up by 12% to match pctdistance\n",
    "plt.title('Immigration to Canada by Continent in 2013', y=1.12) \n",
    "plt.axis('equal') \n",
    "\n",
    "    # add legend\n",
    "plt.legend(labels=df_continents.index, loc='upper left') \n",
    "\n",
    "    # show plot\n",
    "plt.show()"
   ]
  },
  {
   "cell_type": "markdown",
   "metadata": {
    "button": false,
    "new_sheet": false,
    "run_control": {
     "read_only": false
    }
   },
  {
   "cell_type": "markdown",
   "metadata": {
    "button": false,
    "new_sheet": false,
    "run_control": {
     "read_only": false
    }
   },
   "source": [
    "# Box Plots <a id=\"8\"></a>\n",
    "\n",
    "A `box plot` is a way of statistically representing the *distribution* of the data through five main dimensions:\n",
    "\n",
    "*   **Minimum:** The smallest number in the dataset excluding the outliers.\n",
    "*   **First quartile:** Middle number between the `minimum` and the `median`.\n",
    "*   **Second quartile (Median):** Middle number of the (sorted) dataset.\n",
    "*   **Third quartile:** Middle number between `median` and `maximum`.\n",
    "*   **Maximum:** The largest number in the dataset excluding the outliers.\n"
   ]
  },
  {
   "cell_type": "markdown",
   "metadata": {
    "button": false,
    "new_sheet": false,
    "run_control": {
     "read_only": false
    }
   },
   "source": [
    "<img src=\"https://cf-courses-data.s3.us.cloud-object-storage.appdomain.cloud/IBMDeveloperSkillsNetwork-DV0101EN-SkillsNetwork/labs/Module%203/images/boxplot_complete.png\" width=440, align=\"center\">\n"
   ]
  },
  {
   "cell_type": "markdown",
   "metadata": {
    "button": false,
    "new_sheet": false,
    "run_control": {
     "read_only": false
    }
   },
   "source": [
    "To make a `boxplot`, we can use `kind=box` in `plot` method invoked on a *pandas* series or dataframe.\n",
    "\n",
    "Let's plot the box plot for the Japanese immigrants between 1980 - 2013.\n"
   ]
  },
  {
   "cell_type": "markdown",
   "metadata": {
    "button": false,
    "new_sheet": false,
    "run_control": {
     "read_only": false
    }
   },
   "source": [
    "Step 1: Get the subset of the dataset. Even though we are extracting the data for just one country, we will obtain it as a dataframe. This will help us with calling the `dataframe.describe()` method to view the percentiles.\n"
   ]
  },
  {
   "cell_type": "code",
   "execution_count": 19,
   "metadata": {
    "button": false,
    "collapsed": false,
    "jupyter": {
     "outputs_hidden": false
    },
    "new_sheet": false,
    "run_control": {
     "read_only": false
    }
   },
   "outputs": [
    {
     "data": {
      "text/html": [
       "<div>\n",
       "<style scoped>\n",
       "    .dataframe tbody tr th:only-of-type {\n",
       "        vertical-align: middle;\n",
       "    }\n",
       "\n",
       "    .dataframe tbody tr th {\n",
       "        vertical-align: top;\n",
       "    }\n",
       "\n",
       "    .dataframe thead th {\n",
       "        text-align: right;\n",
       "    }\n",
       "</style>\n",
       "<table border=\"1\" class=\"dataframe\">\n",
       "  <thead>\n",
       "    <tr style=\"text-align: right;\">\n",
       "      <th>Country</th>\n",
       "      <th>Japan</th>\n",
       "    </tr>\n",
       "  </thead>\n",
       "  <tbody>\n",
       "    <tr>\n",
       "      <th>1980</th>\n",
       "      <td>701</td>\n",
       "    </tr>\n",
       "    <tr>\n",
       "      <th>1981</th>\n",
       "      <td>756</td>\n",
       "    </tr>\n",
       "    <tr>\n",
       "      <th>1982</th>\n",
       "      <td>598</td>\n",
       "    </tr>\n",
       "    <tr>\n",
       "      <th>1983</th>\n",
       "      <td>309</td>\n",
       "    </tr>\n",
       "    <tr>\n",
       "      <th>1984</th>\n",
       "      <td>246</td>\n",
       "    </tr>\n",
       "  </tbody>\n",
       "</table>\n",
       "</div>"
      ],
      "text/plain": [
       "Country  Japan\n",
       "1980       701\n",
       "1981       756\n",
       "1982       598\n",
       "1983       309\n",
       "1984       246"
      ]
     },
     "execution_count": 19,
     "metadata": {},
     "output_type": "execute_result"
    }
   ],
   "source": [
    "# to get a dataframe, place extra square brackets around 'Japan'.\n",
    "df_japan = df_can.loc[['Japan'], years].transpose()\n",
    "df_japan.head()"
   ]
  },
  {
   "cell_type": "markdown",
   "metadata": {
    "button": false,
    "new_sheet": false,
    "run_control": {
     "read_only": false
    }
   },
   "source": [
    "Step 2: Plot by passing in `kind='box'`.\n"
   ]
  },
  {
   "cell_type": "code",
   "execution_count": 20,
   "metadata": {
    "button": false,
    "collapsed": false,
    "jupyter": {
     "outputs_hidden": false
    },
    "new_sheet": false,
    "run_control": {
     "read_only": false
    }
   },
   "outputs": [
    {
     "data": {
      "image/png": "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\n",
      "text/plain": [
       "<Figure size 576x432 with 1 Axes>"
      ]
     },
     "metadata": {},
     "output_type": "display_data"
    }
   ],
   "source": [
    "df_japan.plot(kind='box', figsize=(8, 6))\n",
    "\n",
    "plt.title('Box plot of Japanese Immigrants from 1980 - 2013')\n",
    "plt.ylabel('Number of Immigrants')\n",
    "\n",
    "plt.show()"
   ]
  },
  {
   "cell_type": "markdown",
   "metadata": {
    "button": false,
    "new_sheet": false,
    "run_control": {
     "read_only": false
    }
   },
   "source": [
    "We can immediately make a few key observations from the plot above:\n",
    "\n",
    "1.  The minimum number of immigrants is around 200 (min), maximum number is around 1300 (max), and  median number of immigrants is around 900 (median).\n",
    "2.  25% of the years for period 1980 - 2013 had an annual immigrant count of \\~500 or fewer (First quartile).\n",
    "3.  75% of the years for period 1980 - 2013 had an annual immigrant count of \\~1100 or fewer (Third quartile).\n",
    "\n",
    "We can view the actual numbers by calling the `describe()` method on the dataframe.\n"
   ]
  },
  {
   "cell_type": "code",
   "execution_count": 21,
   "metadata": {
    "button": false,
    "collapsed": false,
    "jupyter": {
     "outputs_hidden": false
    },
    "new_sheet": false,
    "run_control": {
     "read_only": false
    }
   },
   "outputs": [
    {
     "data": {
      "text/html": [
       "<div>\n",
       "<style scoped>\n",
       "    .dataframe tbody tr th:only-of-type {\n",
       "        vertical-align: middle;\n",
       "    }\n",
       "\n",
       "    .dataframe tbody tr th {\n",
       "        vertical-align: top;\n",
       "    }\n",
       "\n",
       "    .dataframe thead th {\n",
       "        text-align: right;\n",
       "    }\n",
       "</style>\n",
       "<table border=\"1\" class=\"dataframe\">\n",
       "  <thead>\n",
       "    <tr style=\"text-align: right;\">\n",
       "      <th>Country</th>\n",
       "      <th>Japan</th>\n",
       "    </tr>\n",
       "  </thead>\n",
       "  <tbody>\n",
       "    <tr>\n",
       "      <th>count</th>\n",
       "      <td>34.000000</td>\n",
       "    </tr>\n",
       "    <tr>\n",
       "      <th>mean</th>\n",
       "      <td>814.911765</td>\n",
       "    </tr>\n",
       "    <tr>\n",
       "      <th>std</th>\n",
       "      <td>337.219771</td>\n",
       "    </tr>\n",
       "    <tr>\n",
       "      <th>min</th>\n",
       "      <td>198.000000</td>\n",
       "    </tr>\n",
       "    <tr>\n",
       "      <th>25%</th>\n",
       "      <td>529.000000</td>\n",
       "    </tr>\n",
       "    <tr>\n",
       "      <th>50%</th>\n",
       "      <td>902.000000</td>\n",
       "    </tr>\n",
       "    <tr>\n",
       "      <th>75%</th>\n",
       "      <td>1079.000000</td>\n",
       "    </tr>\n",
       "    <tr>\n",
       "      <th>max</th>\n",
       "      <td>1284.000000</td>\n",
       "    </tr>\n",
       "  </tbody>\n",
       "</table>\n",
       "</div>"
      ],
      "text/plain": [
       "Country        Japan\n",
       "count      34.000000\n",
       "mean      814.911765\n",
       "std       337.219771\n",
       "min       198.000000\n",
       "25%       529.000000\n",
       "50%       902.000000\n",
       "75%      1079.000000\n",
       "max      1284.000000"
      ]
     },
     "execution_count": 21,
     "metadata": {},
     "output_type": "execute_result"
    }
   ],
   "source": [
    "df_japan.describe()"
   ]
  },
  {
   "cell_type": "markdown",
   "metadata": {
    "button": false,
    "new_sheet": false,
    "run_control": {
     "read_only": false
    }
   },
   "source": [
    "One of the key benefits of box plots is comparing the distribution of multiple datasets. In one of the previous labs, we observed that China and India had very similar immigration trends. Let's analyze these two countries further using box plots.\n",
    "\n",
    "**Question:** Compare the distribution of the number of new immigrants from India and China for the period 1980 - 2013.\n"
   ]
  },
  {
   "cell_type": "markdown",
   "metadata": {
    "button": false,
    "new_sheet": false,
    "run_control": {
     "read_only": false
    }
   },
   "source": [
    "Step 1: Get the dataset for China and India and call the dataframe **df_CI**.\n"
   ]
  },
  {
   "cell_type": "code",
   "execution_count": 22,
   "metadata": {
    "button": false,
    "collapsed": false,
    "jupyter": {
     "outputs_hidden": false
    },
    "new_sheet": false,
    "run_control": {
     "read_only": false
    }
   },
   "outputs": [
    {
     "data": {
      "text/html": [
       "<div>\n",
       "<style scoped>\n",
       "    .dataframe tbody tr th:only-of-type {\n",
       "        vertical-align: middle;\n",
       "    }\n",
       "\n",
       "    .dataframe tbody tr th {\n",
       "        vertical-align: top;\n",
       "    }\n",
       "\n",
       "    .dataframe thead th {\n",
       "        text-align: right;\n",
       "    }\n",
       "</style>\n",
       "<table border=\"1\" class=\"dataframe\">\n",
       "  <thead>\n",
       "    <tr style=\"text-align: right;\">\n",
       "      <th>Country</th>\n",
       "      <th>China</th>\n",
       "    </tr>\n",
       "  </thead>\n",
       "  <tbody>\n",
       "    <tr>\n",
       "      <th>1980</th>\n",
       "      <td>5123</td>\n",
       "    </tr>\n",
       "    <tr>\n",
       "      <th>1981</th>\n",
       "      <td>6682</td>\n",
       "    </tr>\n",
       "    <tr>\n",
       "      <th>1982</th>\n",
       "      <td>3308</td>\n",
       "    </tr>\n",
       "    <tr>\n",
       "      <th>1983</th>\n",
       "      <td>1863</td>\n",
       "    </tr>\n",
       "    <tr>\n",
       "      <th>1984</th>\n",
       "      <td>1527</td>\n",
       "    </tr>\n",
       "  </tbody>\n",
       "</table>\n",
       "</div>"
      ],
      "text/plain": [
       "Country  China\n",
       "1980      5123\n",
       "1981      6682\n",
       "1982      3308\n",
       "1983      1863\n",
       "1984      1527"
      ]
     },
     "execution_count": 22,
     "metadata": {},
     "output_type": "execute_result"
    }
   ],
   "source": [
    "### type your answer here\n",
    "# to get a dataframe, place extra square brackets around 'Japan'.\n",
    "df_CI = df_can.loc[['China'], years].transpose()\n",
    "df_CI.head()\n"
   ]
  },
  {
   "cell_type": "markdown",
   "metadata": {
    "button": false,
    "new_sheet": false,
    "run_control": {
     "read_only": false
    }
   },
  {
   "cell_type": "markdown",
   "metadata": {
    "button": false,
    "new_sheet": false,
    "run_control": {
     "read_only": false
    }
   },
   "source": [
    "Let's view the percentiles associated with both countries using the `describe()` method.\n"
   ]
  },
  {
   "cell_type": "code",
   "execution_count": 23,
   "metadata": {
    "button": false,
    "collapsed": false,
    "jupyter": {
     "outputs_hidden": false
    },
    "new_sheet": false,
    "run_control": {
     "read_only": false
    },
    "scrolled": true
   },
   "outputs": [
    {
     "data": {
      "text/html": [
       "<div>\n",
       "<style scoped>\n",
       "    .dataframe tbody tr th:only-of-type {\n",
       "        vertical-align: middle;\n",
       "    }\n",
       "\n",
       "    .dataframe tbody tr th {\n",
       "        vertical-align: top;\n",
       "    }\n",
       "\n",
       "    .dataframe thead th {\n",
       "        text-align: right;\n",
       "    }\n",
       "</style>\n",
       "<table border=\"1\" class=\"dataframe\">\n",
       "  <thead>\n",
       "    <tr style=\"text-align: right;\">\n",
       "      <th>Country</th>\n",
       "      <th>China</th>\n",
       "    </tr>\n",
       "  </thead>\n",
       "  <tbody>\n",
       "    <tr>\n",
       "      <th>count</th>\n",
       "      <td>34.000000</td>\n",
       "    </tr>\n",
       "    <tr>\n",
       "      <th>mean</th>\n",
       "      <td>19410.647059</td>\n",
       "    </tr>\n",
       "    <tr>\n",
       "      <th>std</th>\n",
       "      <td>13568.230790</td>\n",
       "    </tr>\n",
       "    <tr>\n",
       "      <th>min</th>\n",
       "      <td>1527.000000</td>\n",
       "    </tr>\n",
       "    <tr>\n",
       "      <th>25%</th>\n",
       "      <td>5512.750000</td>\n",
       "    </tr>\n",
       "    <tr>\n",
       "      <th>50%</th>\n",
       "      <td>19945.000000</td>\n",
       "    </tr>\n",
       "    <tr>\n",
       "      <th>75%</th>\n",
       "      <td>31568.500000</td>\n",
       "    </tr>\n",
       "    <tr>\n",
       "      <th>max</th>\n",
       "      <td>42584.000000</td>\n",
       "    </tr>\n",
       "  </tbody>\n",
       "</table>\n",
       "</div>"
      ],
      "text/plain": [
       "Country         China\n",
       "count       34.000000\n",
       "mean     19410.647059\n",
       "std      13568.230790\n",
       "min       1527.000000\n",
       "25%       5512.750000\n",
       "50%      19945.000000\n",
       "75%      31568.500000\n",
       "max      42584.000000"
      ]
     },
     "execution_count": 23,
     "metadata": {},
     "output_type": "execute_result"
    }
   ],
   "source": [
    "### type your answer here\n",
    "df_CI.describe()"
   ]
  },
  {
   "cell_type": "markdown",
   "metadata": {
    "button": false,
    "new_sheet": false,
    "run_control": {
     "read_only": false
    }
   },

  {
   "cell_type": "markdown",
   "metadata": {
    "button": false,
    "new_sheet": false,
    "run_control": {
     "read_only": false
    }
   },
   "source": [
    "Step 2: Plot data.\n"
   ]
  },
  {
   "cell_type": "code",
   "execution_count": 25,
   "metadata": {
    "button": false,
    "collapsed": false,
    "jupyter": {
     "outputs_hidden": false
    },
    "new_sheet": false,
    "run_control": {
     "read_only": false
    }
   },
   "outputs": [
    {
     "data": {
      "image/png": "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\n",
      "text/plain": [
       "<Figure size 720x504 with 1 Axes>"
      ]
     },
     "metadata": {},
     "output_type": "display_data"
    }
   ],
   "source": [
    "### type your answer here\n",
    "df_CI.plot(kind='box', figsize=(10, 7))\n",
    "\n",
    "plt.title('Box plot of Chinese Immigrants from 1980 - 2013')\n",
    "plt.ylabel('Number of Immigrants')\n",
    "\n",
    "plt.show()"
   ]
  },
  {
   "cell_type": "markdown",
   "metadata": {
    "button": false,
    "new_sheet": false,
    "run_control": {
     "read_only": false
    }
   },
  {
   "cell_type": "markdown",
   "metadata": {
    "button": false,
    "new_sheet": false,
    "run_control": {
     "read_only": false
    }
   },
   "source": [
    "We can observe that, while both countries have around the same median immigrant population (\\~20,000),  China's immigrant population range is more spread out than India's. The maximum population from India for any year (36,210) is around 15% lower than the maximum population from China (42,584).\n"
   ]
  },
  {
   "cell_type": "markdown",
   "metadata": {
    "button": false,
    "new_sheet": false,
    "run_control": {
     "read_only": false
    }
   },
   "source": [
    "If you prefer to create horizontal box plots, you can pass the `vert` parameter in the **plot** function and assign it to *False*. You can also specify a different color in case you are not a big fan of the default red color.\n"
   ]
  },
  {
   "cell_type": "code",
   "execution_count": 26,
   "metadata": {
    "button": false,
    "collapsed": false,
    "jupyter": {
     "outputs_hidden": false
    },
    "new_sheet": false,
    "run_control": {
     "read_only": false
    }
   },
   "outputs": [
    {
     "data": {
      "image/png": "iVBORw0KGgoAAAANSUhEUgAAAmAAAAG9CAYAAACyI8q8AAAAOXRFWHRTb2Z0d2FyZQBNYXRwbG90bGliIHZlcnNpb24zLjMuNCwgaHR0cHM6Ly9tYXRwbG90bGliLm9yZy8QVMy6AAAACXBIWXMAAAsTAAALEwEAmpwYAAAx9UlEQVR4nO3deXRU9f3/8ddkD4RAQgKYoDQhgLLvqwQpKNVihQooLgULtlJBgUoFK+q3LvRbKgiKQlGQ4goWRI6KG6vKjimSCIEYFjUCIayyJvP+/eEv82VIAgHCJyR5Ps7hHObmzr2fmc/M5DnLnXjMzAQAAABnAkp7AAAAABUNAQYAAOAYAQYAAOAYAQYAAOAYAQYAAOAYAQYAAOAYAYYS9eqrryooKKi0h1GkQ4cOqXfv3oqMjJTH49H27dtLe0gFLF26VB6PR999911pD+WSmDt3rurWravAwEANHDiwtIdzXgYOHKju3bufdZ3L/T5QXNddd50GDx5cKvsqyX0PGzZMQ4cOLZFt4ex27NihmJgYZWVllfZQygQCrIwZOHCgPB6P71/VqlXVoUMHffDBB6U9tAs2ePBgXXfddU729dJLL2nlypX64osvlJWVpSuvvLLAOtu3b5fH49Hnn3/uZExn6tixo7KyshQXF1cq+y/Ma6+9Jo/Hc9HbycvL0+9//3v169dPO3fu1KRJk0pgdCXj6NGjeuqpp9S0aVNVqlRJ0dHRateunZ5//nkdPXq02Nu57bbb9P3331/CkV4eLuX9ZN68eZowYcJFb2fLli2aOXOmHn30Ud+y5cuX65ZbblGdOnXk8Xj01FNPFThfbm6u/vGPf6hBgwYKCwtTvXr1NGXKlALrzZ07V61atVJERIRq1Kih3/72t9q2bZvfOllZWerXr58iIyMVGRmp22+/XXv27LnoyyZJ48ePV4cOHRQVFaVq1arp2muv1aJFiwqst3r1anXs2FFhYWG64oorNGbMGOXl5fmN8c4771SjRo0UFBRU6JOMXbt26YYbblBcXJxCQ0MVFxen3/3ud35PFOvUqaN+/fpp7NixJXL5yjsCrAzq3LmzsrKylJWVpVWrVqlly5bq1auXMjIySntol72tW7eqUaNGatKkiWrVqqXAwMDSHlIBISEhqlWrlgICLu7uefLkyRIaUcnJysrSkSNHdNNNNyk+Pl5Vq1YtsI6Z6dSpU07HdejQIXXq1EnPP/+87r//fn355Zdav369HnroIc2ZM0cff/xxsbcVHh6umjVrXsLRln/R0dGKjIy86O1MnjxZN910k2rVquVbduTIETVs2FD/+Mc//Jaf7vHHH9f48eP197//XWlpaXriiSf0l7/8RdOnT/ets3r1at1+++269dZbtXHjRn3wwQfat2+ffv3rX/vW8Xq96tmzpzIzM/XJJ5/o448/Vnp6unr16qWS+A70xYsX6/e//72WLFmi1atXq3379urZs6e++OIL3zq7du3S9ddfrwYNGmj9+vV66aWXNG3aNP31r3/1rXPixAlFR0dr5MiRRb7CGxQUpFtvvVULFy7U1q1bNWfOHKWnp+vmm2/2W2/w4MF67bXXlJ2dfdGXr9wzlCkDBgywbt26+S07dOiQSbJ58+b5LfvDH/5gMTExFhoaaq1atbKPPvrIzMyOHz9uzZs3t1tuucW3/tGjR61Ro0bWr1+/Ivf9+OOPW926de3111+3hIQECw0NtW7dutm3337rW2fmzJkWGBjod77333/fWrZsaSEhIRYbG2tDhgyxI0eO+LYpye/fzJkzzcxs+vTpdvXVV1toaKhFR0db586dbdeuXUWO7+TJk/bwww9bXFycBQcH2zXXXGOvv/667+d16tTx20+XLl0K3U5mZqZJshUrVvidfv311+2GG26w8PBwa9CggS1dutS+++47u/HGG61SpUp2zTXX2PLly33bWbJkiUmy999/39q3b29hYWHWsmVL27Rpk23atMk6depk4eHh1qZNG0tNTS1wvtMv6yeffGKNGze20NBQa9KkiS1dutQk2ezZs/3G+Nprr/nG8+c//9m8Xq8NHjzYEhMTLSwszBISEmzMmDF2/PjxAvP67rvvWoMGDaxSpUp23XXX2bZt2/zGc/q/AQMGmJnZihUrrGPHjhYREWERERHWtGlTW7RoUaHX68yZMwtsZ8mSJb7bzOLFi6158+YWHBxsCxcuPOtt+GLmpTBDhw61sLAwv9tyPq/Xa/v37zez/7v/TZs2za666iqrUqWK/eY3v7E9e/b4Xc7T7wP5pz///HNr0aKFhYeHW+vWrW3dunV++zjXPBXm9ddft7Zt21pkZKRVr17dbrrpJtuyZUuB6+jtt9+2nj17Wnh4uCUkJNi///1vv+1s377devToYWFhYXbllVfa5MmTrUuXLjZo0KAi913U/aQk9nXm6Y8//ti6dOliUVFRFhkZacnJybZ69eqzXjd5eXkWFRXl9xhwpjp16tiTTz5ZYHl8fLyNGzfOb9kDDzxgderU8Z2eOHGiRUdH+63z3nvvmSQ7cOCAmZl99NFHJsk2b97sW2fTpk2+2/6l0LhxYxs5cqTv9JgxYyw+Pt7y8vJ8y1544QWrVKmS73H4dIX9jinKu+++63d581111VX20ksvXeAlqDgIsDLmzDvHiRMn7Nlnn7XQ0FDbvn27b3mfPn2sTp06tmjRIktLS7MHHnjAgoOD7ZtvvjEzsy1btlhERIQ9//zzZmY2ePBgS0hIKHBHOt3jjz9ulSpVsk6dOtmaNWtszZo11rZtW2vatKl5vV4zK/jL57///a8FBgba8OHDLS0tzT744AO78sor7a677jIzs8OHD9sdd9xhHTp0sKysLMvKyrKjR4/aunXrLDAw0GbNmmXbt2+3jRs32vTp088aYA899JBFR0fbnDlzbMuWLfb000+bx+OxTz/91MzM9uzZY/369bPOnTtbVlaW7du3r9DtFPWLJTEx0ebPn29btmyxXr162RVXXGHdunWzefPm2ZYtW+y3v/2t1a5d206ePGlm/xcuzZs3t88++8xSU1Otffv21qRJE+vcubN9+umnlpaWZp06dbK2bdv69n9mgH333XcWHh5ugwYNstTUVPv000+tZcuWhQZYfHy8zZ492zIyMuzbb7+1vLw8++tf/2qrVq2yzMxMW7BggdWqVcsee+yxAvPao0cPW7dunaWkpFjz5s0tOTnZdxt74YUXTJJvjg4cOGC5ubkWFRVlI0aMsPT0dEtPT7d58+YVGTtHjx61NWvWmCRbsGCBZWVl2YkTJ2zmzJnm8XisdevW9tlnn1lGRobt2bPnnLfhC52XM+Xl5Vl0dPRZYyPfgAEDLDIy0m6//Xb7+uuv7YsvvrCrrrrKfve73/nWKSzAPB6Pde7c2ZYvX27ffPONXX/99ZaYmGinTp3yjeFc81SYGTNm2MKFC23btm22YcMGu/nmmy0pKclOnDjhdx0lJCTY22+/bVu3brWHH37YAgMDLT093cx+jr8WLVpY69atbdWqVfbVV19Z9+7drUqVKhcUYCWxrzMDbN68eb779aZNm2zQoEEWFRVl2dnZRY4vJSXFJNnWrVuLXKeoAKtevbpNnDjRb9nDDz9sknyPs6tXr7aAgAB7++23LS8vz/bv3299+/a1Tp06+c7z2GOPWUJCQoHt165du9D9Xqy8vDyrU6eOPfPMM75lycnJds899/itt23bNr+5O11xA2zv3r126623WsuWLQv8rG/fvmd9Mo+fEWBlzIABAywwMNAqV65slStXNo/HY5UrV7a3337bt87WrVt9r7ycrkWLFn53xFdffdVCQ0Nt7NixFhwcfM5nlPmvVp3+gLZlyxaTZJ988omZFfzlc9ddd1mbNm38tvPuu++ax+PxPZANGjSowKtR8+bNs8jISDt48GAxrhWzn376yUJCQmzKlCl+y3v16mVdu3b1nS7Og0tRv1hOf0DOD4l//vOfvmUbNmwwSfb111+b2f+F1Pz5833rzJkzxyTZO++843dZJdnhw4f9zpcfYI888ojVqVPHcnNzfef58MMPCw2wv/3tb+e8riZMmGBJSUm+048//rgFBgb6vYrz5ptvmsfjsWPHjpmZ2ezZs+3MF8xzcnLO+5n8mdet2f+9MnZ6uBXnNnyh83Km3bt3myR79tlnzzn+AQMGWExMjN8rU+PGjbNatWr5XZ4zA0ySrV+/3rds5cqVBV4ZOdOZ81Qc+/btM0n2+eefm9n/XUenX7ZTp05Z5cqVberUqWb286urkvxeOduzZ4+FhYVdUICVxL7O9epbXl6eVatWzV577bUi15k/f75JsqNHjxa5TlEBdtddd1lCQoJt3LjRvF6vrVq1ymJjY02Sffnll7713nvvPYuKirKgoCCTZO3atfOLwnvvvdc6dOhQYPutW7e2P/3pT0WO60I9+eSTVrVqVb8nqvXq1bMxY8b4rXfkyBGTZHPmzCmwjXM9Rt5+++0WHh5ukqxDhw5+jxv5RowYYa1bt76IS1Ix8BmwMqhdu3ZKSUlRSkqKNmzYoMcee0wDBgzQRx99JElKS0uTJCUnJ/udLzk5Wampqb7TAwYM0C233KInn3xSTz75pNq2bXvOfcfGxiopKcl3un79+oqJifHt80ypqakFxtGlSxeZWZHnkaTrr79eiYmJSkhI0O23365//etfZ/1MwbZt23Ty5MlC93X6Zb4YzZo18/0//7MjTZs2LbDszA/YXuj58qWlpalNmzZ+n1fr0KFDoesWNofTp09Xu3btVLNmTUVERGjMmDHasWOH3zpxcXGKjY31nY6Pj5eZnfXDwlFRURo8eLB69OihG2+8UX//+9+1ZcuWItc/lzZt2vj+X9zbsHTx16/9/8/iFPcgg2uuuUahoaG+0/Hx8dq9e/dZz+PxePzGGR8fL0l+5yvOPJ0pJSVFvXv3VkJCgqpUqaKrrrpKkgqcr3nz5r7/BwUFqWbNmr59p6WlKSYmRvXr1/etExsbqwYNGpx130W5FPvKzMzU3XffraSkJN+H2Q8ePHjW6+fYsWOS5DdXxTVp0iS1bt1azZs3V3BwsPr27atBgwZJku9+uHnzZg0ZMkQjRozQ2rVrtXjxYgUHB6t3795+H3AvSlG3t507dyoiIsL377777ivWmF988UU988wzeuedd1S7du1i7ftCDqyZOHGivvrqK3344YeSpNtvv73A5Q0LC/Nd/ygaAVYGhYeHKykpSUlJSWrevLn+8pe/KDk5WU8//fRZz2dmfne4I0eOaMOGDQoMDFR6evoFjyf/F1hRirqTn+3OHxERoXXr1mn+/PmqX7++pk6dqqSkJK1fv/689nXmZb4YwcHBBfZT2DKv11si5zvdmZehqMtUuXJlv9Nz587V/fffr9tuu00ffPCBvvrqKz322GMFPuQeEhJS6PbPNibp52hYv369rr/+ei1btkyNGzfWtGnTznqewgQGBiosLOyc6xU2nxd7/cbGxioqKqrYoV7YdXWu+0BAQIBfQJ85puLO0+mOHj2qG264QR6PRzNmzNCaNWu0du1aeTyeAgdgFDbm/H2X5H3kUu2rZ8+e2rlzp6ZMmaJVq1YpJSVFNWrUOOuBJvlPKPbv33/e+4uOjtacOXN07Ngxbd++Xdu3b/cdMZ2QkCBJeuaZZ9SkSRONHTtWzZs3V9euXfXGG29oxYoVWrJkiSTpiiuu0I8//lhg+7t37y7yAIC4uDjfE+yUlBT97W9/O+d4//nPf2rUqFF67733CnyIvrAx5J8uagxnU6tWLTVo0EC/+tWv9J///EeLFy/WJ5984rdOTk6O3xM6FI4AKyeCgoJ8h8o3atRI0s+HW59uxYoVvp9J0pAhQxQYGKjFixfrtdde01tvvXXO/ezdu9fvaMv09HTt27dP11xzTaHrN2rUSMuWLfNbtmzZMnk8HjVs2FDSzw/YhT1jDAwMVHJysv72t79p/fr1uuKKK/TGG28Uup+kpCSFhoYW2Nfy5cv9LnNZ1LBhQ61du9bvOlq5cmWxzrt8+XK1aNFCI0eOVKtWrVSvXr0L+u6z/F+qhc1T48aNNXLkSH344YcaNGiQ/vWvf5339s9U3NtwSQgICNAdd9yh119/XZmZmQV+bmY6ePBgie7zTBcyT99884327t2rp59+Wl27dtU111yj/fv3n/fRdY0aNdLevXu1detW37Ls7OyLelJWkvvat2+f0tLSNHr0aPXo0UMNGzZUWFjYOb/KoUWLFvJ4PBf1CnhISIhq166tgIAAvfnmm0pOTvaFxU8//VTgSOX8yM6fg06dOikzM9Pv8n7zzTfatWuXrr322kL3GRQU5HuCnZSUpBo1apx1jI899pj+53/+Rx988EGhRzB26tRJn3zyid8TkEWLFqlSpUpq0aJFMa6FouVv88SJE37Lv/76a7Vu3fqitl0REGBl0MmTJ/Xjjz/qxx9/VEZGhl588UV99NFH6t27tySpbt266tu3r/70pz/po48+0ubNm/Xggw9q06ZNGjVqlKSfv9dp7ty5euutt5ScnKxnnnlGf/zjHwv9BXS6SpUq6Z577tH69eu1bt06DRgwQE2aNCny0OVRo0Zpw4YNGjlypDZv3qxFixZp2LBhuvPOO31vlyQkJGjz5s1KTU1Vdna2Tpw4oQULFmjixIlav369du7cqXfffVe7du3yRVth43rggQc0duxYzZ07V1u3btUzzzyjBQsW6JFHHrnQq/qy8Kc//Um7d+/WkCFD9M0332jJkiW+Q8jP9WpCgwYN9PXXX2vBggXKyMjQpEmTNG/evPMeQ/6z/vfee0979+7VkSNHtG3bNj388MP6/PPPtWPHDq1cuVIrVqwoco7OR3FuwyXp6aefVr169dS+fXv961//0n//+19lZmZq/vz56tKli+8VjUvlQuapTp06Cg0N1fPPP6+MjAx99tlnevDBB8/7FaZu3bqpWbNmuuuuu7RmzRqlpKTozjvvvCRfJnsh+4qKilJsbKymT5+u9PR0rVy5Uv3791d4ePhZ91W9enW1bdu2wJOyI0eO+F5dyn8sTUlJ8fv+rrVr12ru3LnKyMjQypUr1adPH6WkpGjy5Mm+dXr16qVFixZp4sSJysjI0Lp16zRw4EDFxcWpXbt2kqTu3burZcuWvsu7evVq3X333Wrfvr26dOlyIVehn+HDh2v8+PGaPXu2GjRo4Pu9cPoThiFDhujgwYO69957lZqaqvfee09jx47VsGHD/F4xz79OcnJy/K6jfP/5z3/073//W5s2bdKOHTv06aefql+/fqpdu7Z++ctf+tY7fPiw1q9f7/d1HChCqXzyDBdswIABfofxh4eHW8OGDW38+PF+hxkfPHjQdwh/SEiI3yH8W7dutSpVqtjkyZN963u9XvvVr35lbdu2LfJosfyvK5g9e7bVqVPHQkJCrGvXrr6vKzA799dQxMTE2H333ed3+PO+ffvsxhtvtMjISN/XUCxbtsy6du3q+wqCpKQkGzdunO9oy8Kc62so8q+/C/0Q/ukfHN+1a1eBD6BnZWX5HZBQ2NdJrFixwiRZZmamb1n+B7LzD24o6msoGjVqZCEhIdakSRPfh/DzP8xf2Bjzr5M//OEPFhUVZVWqVLH+/fvb888/7/eB+vx5PV1h43zwwQetRo0a5vF4bMCAAfbDDz9Y7969LT4+3kJCQuyKK66wwYMHn/VI2qI+hH/mbcbs7LfhorZVnHkpypEjR+yJJ56wRo0aWVhYmFWrVs3atm1rL7zwgu+D3IXdfs48QKGor6E43ZnjLM48FWbu3LmWlJRkoaGh1rx5c1u6dKkFBgb6vsqlqNtF3bp17fHHH/edzszMtOuvv95CQ0MtPj7ennvuuQv+GoqS2NeZp5cuXWpNmza10NBQq1+/vr3zzjsFtluYV1991erVq+e3rLCvVdEZX0uzYsUK3+0gMjLSevbsaRs3biyw/alTp1qTJk2sUqVKFhsbazfffHOBgz1++OEH69Onj0VERFiVKlWsX79+tnv37rOOu7gKuxw67Wti8q1cudI6dOhgoaGhVrNmTRs9erTfQT1n21a+hQsXWrt27axq1aoWGhpqiYmJdt9999nOnTv9tjNjxgxr0KBBiVy+8s5jVgLfBocK4YknntBrr71W4Jue4d7y5cvVpUsXbdy4UU2aNCnt4QCXpVOnTqlp06YaN26cevXqVdrDKfe8Xq+aNWumRx99VLfddltpD+eyV/b/YBlQAbz00ktq1qyZ4uLilJaWphEjRqhdu3bEF3AWwcHBmjVrlt9nsHDpfP/99xo4cCDxVUwEGFAG7NixQ+PGjfMdPXX99dfrf//3f0t7WMBlr23btsX6ih1cvCuvvFJ//vOfS3sYZQZvQQIAADjGUZAAAACOEWAAAACOlbnPgP3www8FlsXExJz1z9SgfGG+Kw7mumJhviuWijDfcXFxRf6MV8AAAAAcI8AAAAAcI8AAAAAcI8AAAAAcI8AAAAAcI8AAAAAcI8AAAAAcI8AAAAAcI8AAAAAcI8AAAAAcI8AAAAAcI8AAAAAcI8AAAAAcI8AAAAAcI8AAAAAcI8AAAAAcI8AAAAAcI8AAAAAcI8AAAAAcI8AAAAAcI8AAAAAcI8AAAAAcI8AAAAAcI8AAAAAcI8AAAAAcI8AAAAAcI8AAAAAcI8AAAAAcI8AAAAAcI8AAAAAcI8AAAAAcI8AAAAAcI8AAAAAcI8AAAAAcI8AAAAAcI8AAAAAcI8AAAAAcI8AAAAAcI8AAAAAcI8AAAAAcI8AAAAAcI8AAAAAcI8AAAAAcI8AAAAAcI8AAAAAcI8AAAAAcI8AAAAAcI8AAAAAcI8AAAAAcI8AAAAAcI8AAAAAcI8AAAAAcI8AAAAAcI8AAAAAcI8AAAAAcI8AAAAAcI8AAAAAcI8AAAAAcI8AAAAAcI8AAAAAcI8AAAAAcI8AAAAAcI8AAAAAcI8AAAAAcI8AAAAAcI8AAAAAcI8AAAAAcI8AAAAAcI8AAAAAcI8AAAAAcI8AAAAAcI8AAAAAcI8AAAAAcI8AAAAAcI8AAAAAcI8AAAAAcI8AAAAAcI8AAAAAcI8AAAAAcI8AAAAAcI8AAAAAcI8AAAAAcI8AAAAAcI8AAAAAcI8AAAAAcI8AAAAAcI8AAAAAcI8AAAAAcI8AAAAAcI8AAAAAcI8AAAAAcI8AAAAAcI8AAAAAcI8AAAAAcI8AAAAAcI8AAAAAcI8AAAAAcI8AAAAAcI8AAAAAcI8AAAAAcI8AAAAAcI8AAAAAcI8AAAAAcI8AAAAAcI8AAAAAcI8AAAAAcI8AAAAAcI8AAAAAcI8AAAAAcI8AAAAAcI8AAAAAcI8AAAAAcI8AAAAAcI8AAAAAcI8AAAAAcI8AAAAAcI8AAAAAcI8AAAAAcI8AAAAAcI8AAAAAcI8AAAAAcI8AAAAAcI8AAAAAcI8AAAAAcI8AAAAAcI8AAAAAcI8AAAAAcI8AAAAAcI8AAAAAcI8AAAAAcI8AAAAAcI8AAAAAcI8AAAAAcI8AAAAAcI8AAAAAcI8AAAAAcI8AAAAAcI8AAAAAcI8AAAAAcI8AAAAAcI8AAAAAcI8AAAAAcI8AAAAAcI8AAAAAcI8AAAAAcI8AAAAAcI8AAAAAcI8AAAAAcI8AAAAAcI8AAAAAcI8AAAAAcI8AAAAAcI8AAAAAcI8AAAAAcI8AAAAAcI8AAAAAcI8AAAAAcI8AAAAAcI8AAAAAcI8AAAAAcCyrtAaDkNWpUSwcOlPe2jivtAcAZ5rpiKZn5rlbNq9TUH0tkW8ClQICVQwcOBOj7738o7WFcMjExMcrOzi7tYcCB+Pi4cn1bhr+SvG/HxxPuuLyV95dJAAAALjsEGAAAgGMEGAAAgGMEGAAAgGMEGAAAgGMEGAAAgGMEGAAAgGMEGAAAgGMEGAAAgGMEGAAAgGMEGAAAgGMEGAAAgGME2Bn4A64AAJRvl8PvegIMAADAMQIMAADAMQIMAADAMQIMAADAMQIMAADAMQIMAADAMQIMAADAMQIMAADAMQIMAADAMQIMAADAsaDirHTgwAG9+uqrysjIUFBQkGrUqKE2bdpo3bp1Gj16dIH1p06dqp49e6p27dolPmAAAICy7pwBZmYaP368unTpouHDh0uStm/frnXr1hV5nvvuu6/EBggAAFDenDPAUlNTFRQUpBtuuMG37Be/+IV++uknbdq0Sc8++6x27dqlxMREDRs2TB6PR0888YTuvvtu1a1bV3fffbduuukmbdiwQSEhIRo1apSqVaumdevWad68ecrNzVWVKlU0bNgwVatW7VJeVgAAgMvCOT8DtnPnTiUkJBT6s8zMTA0cOFATJkzQ7t27tWXLlgLrnDhxQvXq1dP48eN1zTXX6LPPPpMkXX311Xr66af1j3/8Qx07dtR77713kRcFAACgbCjWZ8CKkpSUpOrVq0v6+VWxPXv26Oqrr/bfQVCQWrVqJUlKTEzUxo0bJUk5OTl67rnntH//fuXm5qpGjRqF7uPTTz/Vp59+Kkn6+9//rpiYmIIXIiio0OUXKj4+rsS2VVpK8vq43JT0fOPyxlxXHDyWV0SlN0el/dhyzgC78sortXr16kJ/Fhwc7Pt/QECAvF5vgXUCAwPl8Xh86+Tl5UmSZsyYoZ49e6p169ZKTU3V3LlzC91H9+7d1b17d9/p7OzsAuvExMQUuvzCxOn7738ooW2Vjvj4uBK8Pi4/JTvfuLyV79sy/PFYXrGU5mO5q9+TcXFFB+Y534Js3LixTp065XsVSpK2bdumtLS0ixrU0aNHFR0dLUlatmzZRW0LAACgLDnnK2Aej0cPPfSQXn31VS1YsEDBwcGKjY1VmzZtLmrHffv21YQJExQdHa169eppz549F7U9AACAssJjZlbagzgfP/xQ8CXlknwZMz6+7L9sXR4uw9nwFmTFUd5vy/DHY3nFUtpvQbq4fVzUW5AAAAAoWQQYAACAYwQYAACAYwQYAACAYwQYAACAYwQYAACAYwQYAACAYwQYAACAYwQYAACAYwQYAACAYwTYGfjTFQAAlG+Xw+96AgwAAMAxAgwAAMAxAgwAAMAxAgwAAMAxAgwAAMAxAgwAAMAxAgwAAMAxAgwAAMAxAgwAAMAxAgwAAMAxAgwAAMAxAgwAAMCxoNIeAC6N+Pi40h7CJVbeLx/ylf/bMvyVzHxXq+Ytke0AlwoBVg5dDn/l/VKKiYlRdnZ2aQ8DDjDXFQvzjYqEtyABAAAcI8AAAAAcI8AAAAAcI8AAAAAcI8AAAAAcI8AAAAAcI8AAAAAcI8AAAAAcI8AAAAAcI8AAAAAcI8AAAAAcI8AAAAAcI8AAAAAcI8AAAAAcI8AAAAAcI8AAAAAcI8AAAAAcI8AAAAAcI8AAAAAcI8AAAAAcI8AAAAAcI8AAAAAcI8AAAAAcI8AAAAAcI8AAAAAcI8AAAAAcI8AAAAAcI8AAAAAcI8AAAAAcI8AAAAAcI8AAAAAcI8AAAAAcI8AAAAAcI8AAAAAcI8AAAAAcI8AAAAAcI8AAAAAcI8AAAAAcI8AAAAAcI8AAAAAcI8AAAAAcI8AAAAAcI8AAAAAcI8AAAAAcI8AAAAAcI8AAAAAcI8AAAAAcI8AAAAAcI8AAAAAcI8AAAAAcI8AAAAAcI8AAAAAcI8AAAAAcI8AAAAAcI8AAAAAcI8AAAAAcI8AAAAAcI8AAAAAcI8AAAAAcI8AAAAAcI8AAAAAcI8AAAAAcI8AAAAAcI8AAAAAcI8AAAAAcI8AAAAAcI8AAAAAcI8AAAAAcI8AAAAAcI8AAAAAcI8AAAAAcI8AAAAAcI8AAAAAcI8AAAAAcI8AAAAAcI8AAAAAcI8AAAAAcI8AAAAAcI8AAAAAcI8AAAAAcI8AAAAAcI8AAAAAcI8AAAAAcI8AAAAAcI8AAAAAcI8AAAAAcI8AAAAAcI8AAAAAcI8AAAAAcI8AAAAAcI8AAAAAcI8AAAAAcI8AAAAAcI8AAAAAcI8AAAAAcI8AAAAAcI8AAAAAcI8AAAAAcI8AAAAAcI8AAAAAcI8AAAAAcI8AAAAAcI8AAAAAcI8AAAAAcI8AAAAAcI8AAAAAcI8AAAAAcI8AAAAAcI8AAAAAcI8AAAAAcI8AAAAAcI8AAAAAcI8AAAAAcI8AAAAAcI8AAAAAcI8AAAAAcI8AAAAAcI8AAAAAcI8AAAAAcI8AAAAAcI8AAAAAcI8AAAAAcI8AAAAAcI8AAAAAcI8AAAAAcI8AAAAAcI8AAAAAcI8AAAAAcI8AAAAAcI8AAAAAcI8AAAAAcI8AAAAAcI8AAAAAcI8AAAAAcI8AAAAAcI8AAAAAcI8AAAAAcI8AAAAAcI8AAAAAcI8AAAAAcI8AAAAAcI8AAAAAcI8AAAAAcI8AAAAAcI8AAAAAcI8AAAAAcI8AAAAAcI8AAAAAcI8AAAAAcI8AAAAAcI8AAAAAcI8AAAAAcI8AAAAAcI8AAAAAcI8AAAAAcI8AAAAAcI8AAAAAcI8AAAAAcI8AAAAAcI8AAAAAc85iZlfYgAAAAKpJy8QrY6NGjS3sIcIj5rjiY64qF+a5YKvp8l4sAAwAAKEsIMAAAAMfKRYB17969tIcAh5jvioO5rliY74qlos83H8IHAABwrFy8AgYAAFCWEGAAAACOBZX2AC5WSkqKZs6cKa/Xq27duqlXr16lPSQUw4svvqgNGzaoatWqevbZZyVJR44c0cSJE7V3717FxsZqxIgRioiIkCTNnz9fixcvVkBAgO655x41b95ckvTtt99qypQpOnnypFq0aKF77rlHHo9Hp06d0gsvvKBvv/1WVapU0fDhw1WjRo3SurgVWnZ2tqZMmaIDBw7I4/Goe/fuuummm5jvcurkyZN6/PHHlZubq7y8PLVv3179+vVjvssxr9er0aNHKzo6WqNHj2aui8vKsLy8PBs6dKj9+OOPdurUKXvooYds165dpT0sFENqaqplZGTYyJEjfctmz55t8+fPNzOz+fPn2+zZs83MbNeuXfbQQw/ZyZMnbffu3TZ06FDLy8szM7PRo0fbli1bzOv12tNPP20bNmwwM7NFixbZtGnTzMzs888/twkTJji8dDhdTk6OZWRkmJnZ0aNH7YEHHrBdu3Yx3+WU1+u1Y8eOmZnZqVOnbMyYMbZlyxbmuxxbuHChPffcczZu3Dgz47G8uMr0W5Dbtm1TrVq1VLNmTQUFBaljx45au3ZtaQ8LxdCwYUPfM6J8a9euVZcuXSRJXbp08c3l2rVr1bFjRwUHB6tGjRqqVauWtm3bpv379+vYsWOqX7++PB6PkpOTfedZt26drrvuOklS+/bttWnTJhnHm5SKqKgoJSYmSpLCw8MVHx+vnJwc5ruc8ng8CgsLkyTl5eUpLy9PHo+H+S6n9u3bpw0bNqhbt26+Zcx18ZTpAMvJyVH16tV9p6tXr66cnJxSHBEuxsGDBxUVFSXp51/ahw4dklRwnqOjo5WTk3PW+T/9Z4GBgapUqZIOHz7s6qKgCHv27FFmZqaSkpKY73LM6/Vq1KhRGjx4sJo0aaJ69eox3+XUq6++qrvuuksej8e3jLkunjIdYIVV8Ok3ApQPRT3bOduzIG4bl5/jx4/r2Wef1cCBA1WpUqUi12O+y76AgACNHz9eU6dOVUZGhnbu3Fnkusx32bV+/XpVrVrV9wr3uTDX/sr0h/CrV6+uffv2+U7v27fPV90oe6pWrar9+/crKipK+/fvV2RkpKSC85yTk6Po6OhC5z86OtrvPNWrV1deXp6OHj1a4C1PuJObm6tnn31WnTt3Vrt27SQx3xVB5cqV1bBhQ6WkpDDf5dCWLVu0bt06ffXVVzp58qSOHTumyZMnM9fFVKZfAatbt66ysrK0Z88e5ebm6ssvv1Tr1q1Le1i4QK1bt9ayZcskScuWLVObNm18y7/88kudOnVKe/bsUVZWlpKSkhQVFaXw8HClp6fLzLR8+XLf/Ldq1UpLly6VJK1atUqNGjUqN8+ayhoz09SpUxUfH6+ePXv6ljPf5dOhQ4f0008/Sfr5iMivv/5a8fHxzHc5dMcdd2jq1KmaMmWKhg8frsaNG+uBBx5groupzH8T/oYNGzRr1ix5vV517dpVv/3tb0t7SCiG5557TmlpaTp8+LCqVq2qfv36qU2bNpo4caKys7MVExOjkSNH+p7pzJs3T0uWLFFAQIAGDhyoFi1aSJIyMjL04osv6uTJk2revLl+//vfy+Px6OTJk3rhhReUmZmpiIgIDR8+XDVr1izNi1xhbd68WY899piuuuoq3wNn//79Va9ePea7HNqxY4emTJkir9crM1OHDh3Up08fHT58mPkux1JTU7Vw4UKNHj2auS6mMh9gAAAAZU2ZfgsSAACgLCLAAAAAHCPAAAAAHCPAAAAAHCPAAAAAHCPAAFxyU6ZM0VtvvVUq+zYzvfjii7rnnns0ZsyYUhlDvhUrVuipp54q1TEAuDwQYEAFdP/99+vee+/V8ePHfcs+++wzPfHEE6U3qEtk8+bN2rhxo1566SWNGzeuwM+XLl2qsWPHOhlL586d9eijjzrZ15lSU1N13333lcq+ARREgAEVVF5enj744IPSHsZ583q957X+3r17FRsbq7CwsEs0Ijfy8vJKewgASlCZ/luQAC7cb37zGy1YsEA9evRQ5cqV/X62Z88eDR06VG+++aYCAwMlSU888YQ6d+6sbt26aenSpfrss89Ut25dLV26VBERERo2bJiysrL09ttv69SpU7rrrrt03XXX+bZ56NAhPfnkk9q6dasSEhI0dOhQxcbGSpK+//57zZgxQ99++60iIyN12223qWPHjpJ+fvsyJCRE2dnZSktL06hRo9S0aVO/8ebk5Gj69OnavHmzIiIidMstt6h79+5avHixXnnlFeXm5uruu+/WzTffrH79+p31ern//vvVo0cPLV++XLt371bHjh3Vv39/vfjii9q8ebPq1aunESNGKCIiwnc9DRkyRHPmzNHx48fVv39/JSYmaurUqcrOzlbnzp01aNAgSfJdb08++aQk6b///a9mzJihAwcOqHPnztq1a5eSk5MLXMfLli1Tjx49dN1112natGnasWOHPB6PmjVrpkGDBvnm7/Sx7927V82bN9f9998vr9erZ555xnc9SNKkSZOUk5Ojl19+WVlZWQoJCdG1116rAQMGXMjNCcB54hUwoIJKTExUo0aNtHDhwgs6/9atW1WnTh3NmDFD1157rZ577jlt27ZNkydP1rBhwzRjxgy/tzg///xz3XrrrXrllVf0i1/8QpMnT5YkHT9+XE899ZSuvfZavfzyy3rwwQf1yiuvaNeuXX7n7d27t2bNmqWrr766wFgmTZqk6tWra9q0afrzn/+sN998U19//bV++ctf6t5771X9+vU1e/bsc8ZXvtWrV+vRRx/VpEmTtH79eo0bN079+/fXK6+8Iq/Xqw8//LDAdTFp0iQNHz5cs2bN0rx58zR27FhNmDBBK1euVFpaWoF9HDp0SBMmTNAdd9yhGTNmKC4uTunp6QW2W7NmTb388su+P7PWu3dvTZs2TRMnTtS+ffs0d+5cv/OsXLlSjzzyiKZMmaKdO3dq6dKlCgsL0yOPPKKoqCjNnj1bs2fPVnR0tGbOnKmbbrpJs2bN0vPPP68OHToU6/oBcPEIMKAC69evnz788EMdOnTovM9bo0YNde3aVQEBAerYsaP27dunPn36KDg4WM2aNVNQUJB+/PFH3/otW7ZUw4YNFRwcrP79+ys9PV3Z2dnasGGDYmNj1bVrVwUGBioxMVHt2rXTqlWrfOdt06aNrr76agUEBCgkJMRvHNnZ2dq8ebPuvPNOhYSE6Be/+IW6deum5cuXX/D18qtf/UrVqlVTdHS0rr76aiUlJSkhIUHBwcFq27atMjMz/dbv06ePQkJC1KxZM4WGhuraa69V1apVfec/c31J+uqrr1S7dm21a9dOgYGBuvHGG1WtWjW/daKionTjjTcqMDBQISEhqlWrlpo2barg4GBFRkbq17/+dYG4u/HGGxUdHa2IiAi1atVK27dvL/Jy5s/RoUOHFBYWpvr161/wdQbg/PAWJFCBXXXVVWrVqpXeffddxcfHn9d5q1at6vt/fhSdHhAhISF+r4BVr17d9/+wsDBFRERo//792rt3r7Zu3aqBAwf6fp6Xl6fk5ORCz3um/fv3KyIiQuHh4b5lMTExysjIOK/Lc7ozL9uZp0+cOHFe659+PZw+7tMvl8fjUXR0tN86MTExfqcPHjyomTNn6ptvvtHx48fl9Xp9f+Q435lzkJOTU+TlvO+++/T2229rxIgRqlGjhvr06aNWrVoVuT6AkkOAARVcv3799PDDD6tnz56+ZfkfWD9x4oQqVaokSTpw4MBF7Wffvn2+/x8/flxHjhxRVFSUqlevroYNG571SESPx1Pkz6KionTkyBEdO3bMF2HZ2dkFYuZyU61aNb84MrOzxpIkvfHGG5Kkf/7zn6pSpYrWrFmjGTNmFGt/hV2HV1xxhYYPHy6v16s1a9ZowoQJeuWVV8r8AQtAWcBbkEAFV6tWLXXo0MHvc02RkZGKjo7WihUr5PV6tXjxYu3evfui9vPVV19p8+bNys3N1VtvvaV69eopJiZGrVq1UlZWlpYvX67c3Fzl5uZq27Zt+u6774q13ZiYGDVo0EBvvPGGTp48qR07dmjJkiXq3LnzRY33UmvZsqV27typNWvWKC8vTx999NE5I/fYsWMKCwtT5cqVlZOTc16f36tataoOHz6so0eP+pYtX75chw4dUkBAgC+0AwL4tQC4wCtgANSnTx+tWLHCb9kf//hHvfzyy3rzzTf1y1/+8qI/H9SpUyfNnTtX6enpSkxM1AMPPCBJCg8P16OPPqpZs2Zp1qxZMjPVqVPnvI7Ge/DBBzV9+nT98Y9/VEREhPr27VvgSMnLTWRkpEaOHKmZM2dqypQp6ty5sxITExUcHFzkefr27asXXnhBAwYMUK1atZScnKz333+/WPuLj49Xp06dNHToUHm9Xk2YMEEpKSn697//rRMnTig2NlYPPvhggc/YAbg0PGZmpT0IAKjovF6vhgwZomHDhqlx48alPRwAlxivNQNAKUlJSdFPP/2kU6dOaf78+TIzjkQEKgjeggSAUpKenq7JkycrNzdXtWvX1qhRo3gLEKggeAsSAADAMd6CBAAAcIwAAwAAcIwAAwAAcIwAAwAAcIwAAwAAcOz/ARBkUpi0sruSAAAAAElFTkSuQmCC\n",
      "text/plain": [
       "<Figure size 720x504 with 1 Axes>"
      ]
     },
     "metadata": {},
     "output_type": "display_data"
    }
   ],
   "source": [
    "# horizontal box plots\n",
    "df_CI.plot(kind='box', figsize=(10, 7), color='blue', vert=False)\n",
    "\n",
    "plt.title('Box plots of Immigrants from China and India (1980 - 2013)')\n",
    "plt.xlabel('Number of Immigrants')\n",
    "\n",
    "plt.show()"
   ]
  },
  {
   "cell_type": "markdown",
   "metadata": {
    "button": false,
    "new_sheet": false,
    "run_control": {
     "read_only": false
    }
   },
   "source": [
    "**Subplots**\n",
    "\n",
    "Often times we might want to plot multiple plots within the same figure. For example, we might want to perform a side by side comparison of the box plot with the line plot of China and India's immigration.\n",
    "\n",
    "To visualize multiple plots together, we can create a **`figure`** (overall canvas) and divide it into **`subplots`**, each containing a plot. With **subplots**, we usually work with the **artist layer** instead of the **scripting layer**.\n",
    "\n",
    "Typical syntax is : <br>\n",
    "\n",
    "```python\n",
    "    fig = plt.figure() # create figure\n",
    "    ax = fig.add_subplot(nrows, ncols, plot_number) # create subplots\n",
    "```\n",
    "\n",
    "Where\n",
    "\n",
    "*   `nrows` and `ncols` are used to notionally split the figure into (`nrows` \\* `ncols`) sub-axes,\n",
    "*   `plot_number` is used to identify the particular subplot that this function is to create within the notional grid. `plot_number` starts at 1, increments across rows first and has a maximum of `nrows` \\* `ncols` as shown below.\n",
    "\n",
    "<img src=\"https://cf-courses-data.s3.us.cloud-object-storage.appdomain.cloud/IBMDeveloperSkillsNetwork-DV0101EN-SkillsNetwork/labs/Module%203/images/Mod3Fig5Subplots_V2.png\" width=500 align=\"center\">\n"
   ]
  },
  {
   "cell_type": "markdown",
   "metadata": {
    "button": false,
    "new_sheet": false,
    "run_control": {
     "read_only": false
    }
   },
   "source": [
    "We can then specify which subplot to place each plot by passing in the `ax` paramemter in `plot()` method as follows:\n"
   ]
  },
  {
   "cell_type": "code",
   "execution_count": 27,
   "metadata": {
    "button": false,
    "collapsed": false,
    "jupyter": {
     "outputs_hidden": false
    },
    "new_sheet": false,
    "run_control": {
     "read_only": false
    }
   },
   "outputs": [
    {
     "data": {
      "image/png": "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\n",
      "text/plain": [
       "<Figure size 1440x432 with 2 Axes>"
      ]
     },
     "metadata": {},
     "output_type": "display_data"
    }
   ],
   "source": [
    "fig = plt.figure() # create figure\n",
    "\n",
    "ax0 = fig.add_subplot(1, 2, 1) # add subplot 1 (1 row, 2 columns, first plot)\n",
    "ax1 = fig.add_subplot(1, 2, 2) # add subplot 2 (1 row, 2 columns, second plot). See tip below**\n",
    "\n",
    "# Subplot 1: Box plot\n",
    "df_CI.plot(kind='box', color='blue', vert=False, figsize=(20, 6), ax=ax0) # add to subplot 1\n",
    "ax0.set_title('Box Plots of Immigrants from China and India (1980 - 2013)')\n",
    "ax0.set_xlabel('Number of Immigrants')\n",
    "ax0.set_ylabel('Countries')\n",
    "\n",
    "# Subplot 2: Line plot\n",
    "df_CI.plot(kind='line', figsize=(20, 6), ax=ax1) # add to subplot 2\n",
    "ax1.set_title ('Line Plots of Immigrants from China and India (1980 - 2013)')\n",
    "ax1.set_ylabel('Number of Immigrants')\n",
    "ax1.set_xlabel('Years')\n",
    "\n",
    "plt.show()"
   ]
  },
  {
   "cell_type": "markdown",
   "metadata": {
    "button": false,
    "new_sheet": false,
    "run_control": {
     "read_only": false
    }
   },
   "source": [
    "**Tip regarding subplot convention**\n",
    "\n",
    "In the case when `nrows`, `ncols`, and `plot_number` are all less than 10, a convenience exists such that a 3-digit number can be given instead, where the hundreds represent `nrows`, the tens represent `ncols` and the units represent `plot_number`. For instance,\n",
    "\n",
    "```python\n",
    "   subplot(211) == subplot(2, 1, 1) \n",
    "```\n",
    "\n",
    "produces a subaxes in a figure which represents the top plot (i.e. the first) in a 2 rows by 1 column notional grid (no grid actually exists, but conceptually this is how the returned subplot has been positioned).\n"
   ]
  },
  {
   "cell_type": "markdown",
   "metadata": {
    "button": false,
    "new_sheet": false,
    "run_control": {
     "read_only": false
    }
   },
   "source": [
    "Let's try something a little more advanced.\n",
    "\n",
    "Previously we identified the top 15 countries based on total immigration from 1980 - 2013.\n",
    "\n",
    "**Question:** Create a box plot to visualize the distribution of the top 15 countries (based on total immigration) grouped by the *decades* `1980s`, `1990s`, and `2000s`.\n"
   ]
  },
  {
   "cell_type": "markdown",
   "metadata": {
    "button": false,
    "new_sheet": false,
    "run_control": {
     "read_only": false
    }
   },
   "source": [
    "Step 1: Get the dataset. Get the top 15 countries based on Total immigrant population. Name the dataframe **df_top15**.\n"
   ]
  },
  {
   "cell_type": "code",
   "execution_count": 28,
   "metadata": {
    "button": false,
    "collapsed": false,
    "jupyter": {
     "outputs_hidden": false
    },
    "new_sheet": false,
    "run_control": {
     "read_only": false
    },
    "scrolled": true
   },
   "outputs": [
    {
     "data": {
      "text/html": [
       "<div>\n",
       "<style scoped>\n",
       "    .dataframe tbody tr th:only-of-type {\n",
       "        vertical-align: middle;\n",
       "    }\n",
       "\n",
       "    .dataframe tbody tr th {\n",
       "        vertical-align: top;\n",
       "    }\n",
       "\n",
       "    .dataframe thead th {\n",
       "        text-align: right;\n",
       "    }\n",
       "</style>\n",
       "<table border=\"1\" class=\"dataframe\">\n",
       "  <thead>\n",
       "    <tr style=\"text-align: right;\">\n",
       "      <th></th>\n",
       "      <th>Continent</th>\n",
       "      <th>Region</th>\n",
       "      <th>DevName</th>\n",
       "      <th>1980</th>\n",
       "      <th>1981</th>\n",
       "      <th>1982</th>\n",
       "      <th>1983</th>\n",
       "      <th>1984</th>\n",
       "      <th>1985</th>\n",
       "      <th>1986</th>\n",
       "      <th>...</th>\n",
       "      <th>2005</th>\n",
       "      <th>2006</th>\n",
       "      <th>2007</th>\n",
       "      <th>2008</th>\n",
       "      <th>2009</th>\n",
       "      <th>2010</th>\n",
       "      <th>2011</th>\n",
       "      <th>2012</th>\n",
       "      <th>2013</th>\n",
       "      <th>Total</th>\n",
       "    </tr>\n",
       "    <tr>\n",
       "      <th>Country</th>\n",
       "      <th></th>\n",
       "      <th></th>\n",
       "      <th></th>\n",
       "      <th></th>\n",
       "      <th></th>\n",
       "      <th></th>\n",
       "      <th></th>\n",
       "      <th></th>\n",
       "      <th></th>\n",
       "      <th></th>\n",
       "      <th></th>\n",
       "      <th></th>\n",
       "      <th></th>\n",
       "      <th></th>\n",
       "      <th></th>\n",
       "      <th></th>\n",
       "      <th></th>\n",
       "      <th></th>\n",
       "      <th></th>\n",
       "      <th></th>\n",
       "      <th></th>\n",
       "    </tr>\n",
       "  </thead>\n",
       "  <tbody>\n",
       "    <tr>\n",
       "      <th>India</th>\n",
       "      <td>Asia</td>\n",
       "      <td>Southern Asia</td>\n",
       "      <td>Developing regions</td>\n",
       "      <td>8880</td>\n",
       "      <td>8670</td>\n",
       "      <td>8147</td>\n",
       "      <td>7338</td>\n",
       "      <td>5704</td>\n",
       "      <td>4211</td>\n",
       "      <td>7150</td>\n",
       "      <td>...</td>\n",
       "      <td>36210</td>\n",
       "      <td>33848</td>\n",
       "      <td>28742</td>\n",
       "      <td>28261</td>\n",
       "      <td>29456</td>\n",
       "      <td>34235</td>\n",
       "      <td>27509</td>\n",
       "      <td>30933</td>\n",
       "      <td>33087</td>\n",
       "      <td>691904</td>\n",
       "    </tr>\n",
       "    <tr>\n",
       "      <th>China</th>\n",
       "      <td>Asia</td>\n",
       "      <td>Eastern Asia</td>\n",
       "      <td>Developing regions</td>\n",
       "      <td>5123</td>\n",
       "      <td>6682</td>\n",
       "      <td>3308</td>\n",
       "      <td>1863</td>\n",
       "      <td>1527</td>\n",
       "      <td>1816</td>\n",
       "      <td>1960</td>\n",
       "      <td>...</td>\n",
       "      <td>42584</td>\n",
       "      <td>33518</td>\n",
       "      <td>27642</td>\n",
       "      <td>30037</td>\n",
       "      <td>29622</td>\n",
       "      <td>30391</td>\n",
       "      <td>28502</td>\n",
       "      <td>33024</td>\n",
       "      <td>34129</td>\n",
       "      <td>659962</td>\n",
       "    </tr>\n",
       "    <tr>\n",
       "      <th>United Kingdom of Great Britain and Northern Ireland</th>\n",
       "      <td>Europe</td>\n",
       "      <td>Northern Europe</td>\n",
       "      <td>Developed regions</td>\n",
       "      <td>22045</td>\n",
       "      <td>24796</td>\n",
       "      <td>20620</td>\n",
       "      <td>10015</td>\n",
       "      <td>10170</td>\n",
       "      <td>9564</td>\n",
       "      <td>9470</td>\n",
       "      <td>...</td>\n",
       "      <td>7258</td>\n",
       "      <td>7140</td>\n",
       "      <td>8216</td>\n",
       "      <td>8979</td>\n",
       "      <td>8876</td>\n",
       "      <td>8724</td>\n",
       "      <td>6204</td>\n",
       "      <td>6195</td>\n",
       "      <td>5827</td>\n",
       "      <td>551500</td>\n",
       "    </tr>\n",
       "    <tr>\n",
       "      <th>Philippines</th>\n",
       "      <td>Asia</td>\n",
       "      <td>South-Eastern Asia</td>\n",
       "      <td>Developing regions</td>\n",
       "      <td>6051</td>\n",
       "      <td>5921</td>\n",
       "      <td>5249</td>\n",
       "      <td>4562</td>\n",
       "      <td>3801</td>\n",
       "      <td>3150</td>\n",
       "      <td>4166</td>\n",
       "      <td>...</td>\n",
       "      <td>18139</td>\n",
       "      <td>18400</td>\n",
       "      <td>19837</td>\n",
       "      <td>24887</td>\n",
       "      <td>28573</td>\n",
       "      <td>38617</td>\n",
       "      <td>36765</td>\n",
       "      <td>34315</td>\n",
       "      <td>29544</td>\n",
       "      <td>511391</td>\n",
       "    </tr>\n",
       "    <tr>\n",
       "      <th>Pakistan</th>\n",
       "      <td>Asia</td>\n",
       "      <td>Southern Asia</td>\n",
       "      <td>Developing regions</td>\n",
       "      <td>978</td>\n",
       "      <td>972</td>\n",
       "      <td>1201</td>\n",
       "      <td>900</td>\n",
       "      <td>668</td>\n",
       "      <td>514</td>\n",
       "      <td>691</td>\n",
       "      <td>...</td>\n",
       "      <td>14314</td>\n",
       "      <td>13127</td>\n",
       "      <td>10124</td>\n",
       "      <td>8994</td>\n",
       "      <td>7217</td>\n",
       "      <td>6811</td>\n",
       "      <td>7468</td>\n",
       "      <td>11227</td>\n",
       "      <td>12603</td>\n",
       "      <td>241600</td>\n",
       "    </tr>\n",
       "    <tr>\n",
       "      <th>United States of America</th>\n",
       "      <td>Northern America</td>\n",
       "      <td>Northern America</td>\n",
       "      <td>Developed regions</td>\n",
       "      <td>9378</td>\n",
       "      <td>10030</td>\n",
       "      <td>9074</td>\n",
       "      <td>7100</td>\n",
       "      <td>6661</td>\n",
       "      <td>6543</td>\n",
       "      <td>7074</td>\n",
       "      <td>...</td>\n",
       "      <td>8394</td>\n",
       "      <td>9613</td>\n",
       "      <td>9463</td>\n",
       "      <td>10190</td>\n",
       "      <td>8995</td>\n",
       "      <td>8142</td>\n",
       "      <td>7676</td>\n",
       "      <td>7891</td>\n",
       "      <td>8501</td>\n",
       "      <td>241122</td>\n",
       "    </tr>\n",
       "    <tr>\n",
       "      <th>Iran (Islamic Republic of)</th>\n",
       "      <td>Asia</td>\n",
       "      <td>Southern Asia</td>\n",
       "      <td>Developing regions</td>\n",
       "      <td>1172</td>\n",
       "      <td>1429</td>\n",
       "      <td>1822</td>\n",
       "      <td>1592</td>\n",
       "      <td>1977</td>\n",
       "      <td>1648</td>\n",
       "      <td>1794</td>\n",
       "      <td>...</td>\n",
       "      <td>5837</td>\n",
       "      <td>7480</td>\n",
       "      <td>6974</td>\n",
       "      <td>6475</td>\n",
       "      <td>6580</td>\n",
       "      <td>7477</td>\n",
       "      <td>7479</td>\n",
       "      <td>7534</td>\n",
       "      <td>11291</td>\n",
       "      <td>175923</td>\n",
       "    </tr>\n",
       "    <tr>\n",
       "      <th>Sri Lanka</th>\n",
       "      <td>Asia</td>\n",
       "      <td>Southern Asia</td>\n",
       "      <td>Developing regions</td>\n",
       "      <td>185</td>\n",
       "      <td>371</td>\n",
       "      <td>290</td>\n",
       "      <td>197</td>\n",
       "      <td>1086</td>\n",
       "      <td>845</td>\n",
       "      <td>1838</td>\n",
       "      <td>...</td>\n",
       "      <td>4930</td>\n",
       "      <td>4714</td>\n",
       "      <td>4123</td>\n",
       "      <td>4756</td>\n",
       "      <td>4547</td>\n",
       "      <td>4422</td>\n",
       "      <td>3309</td>\n",
       "      <td>3338</td>\n",
       "      <td>2394</td>\n",
       "      <td>148358</td>\n",
       "    </tr>\n",
       "    <tr>\n",
       "      <th>Republic of Korea</th>\n",
       "      <td>Asia</td>\n",
       "      <td>Eastern Asia</td>\n",
       "      <td>Developing regions</td>\n",
       "      <td>1011</td>\n",
       "      <td>1456</td>\n",
       "      <td>1572</td>\n",
       "      <td>1081</td>\n",
       "      <td>847</td>\n",
       "      <td>962</td>\n",
       "      <td>1208</td>\n",
       "      <td>...</td>\n",
       "      <td>5832</td>\n",
       "      <td>6215</td>\n",
       "      <td>5920</td>\n",
       "      <td>7294</td>\n",
       "      <td>5874</td>\n",
       "      <td>5537</td>\n",
       "      <td>4588</td>\n",
       "      <td>5316</td>\n",
       "      <td>4509</td>\n",
       "      <td>142581</td>\n",
       "    </tr>\n",
       "    <tr>\n",
       "      <th>Poland</th>\n",
       "      <td>Europe</td>\n",
       "      <td>Eastern Europe</td>\n",
       "      <td>Developed regions</td>\n",
       "      <td>863</td>\n",
       "      <td>2930</td>\n",
       "      <td>5881</td>\n",
       "      <td>4546</td>\n",
       "      <td>3588</td>\n",
       "      <td>2819</td>\n",
       "      <td>4808</td>\n",
       "      <td>...</td>\n",
       "      <td>1405</td>\n",
       "      <td>1263</td>\n",
       "      <td>1235</td>\n",
       "      <td>1267</td>\n",
       "      <td>1013</td>\n",
       "      <td>795</td>\n",
       "      <td>720</td>\n",
       "      <td>779</td>\n",
       "      <td>852</td>\n",
       "      <td>139241</td>\n",
       "    </tr>\n",
       "    <tr>\n",
       "      <th>Lebanon</th>\n",
       "      <td>Asia</td>\n",
       "      <td>Western Asia</td>\n",
       "      <td>Developing regions</td>\n",
       "      <td>1409</td>\n",
       "      <td>1119</td>\n",
       "      <td>1159</td>\n",
       "      <td>789</td>\n",
       "      <td>1253</td>\n",
       "      <td>1683</td>\n",
       "      <td>2576</td>\n",
       "      <td>...</td>\n",
       "      <td>3709</td>\n",
       "      <td>3802</td>\n",
       "      <td>3467</td>\n",
       "      <td>3566</td>\n",
       "      <td>3077</td>\n",
       "      <td>3432</td>\n",
       "      <td>3072</td>\n",
       "      <td>1614</td>\n",
       "      <td>2172</td>\n",
       "      <td>115359</td>\n",
       "    </tr>\n",
       "    <tr>\n",
       "      <th>France</th>\n",
       "      <td>Europe</td>\n",
       "      <td>Western Europe</td>\n",
       "      <td>Developed regions</td>\n",
       "      <td>1729</td>\n",
       "      <td>2027</td>\n",
       "      <td>2219</td>\n",
       "      <td>1490</td>\n",
       "      <td>1169</td>\n",
       "      <td>1177</td>\n",
       "      <td>1298</td>\n",
       "      <td>...</td>\n",
       "      <td>4429</td>\n",
       "      <td>4002</td>\n",
       "      <td>4290</td>\n",
       "      <td>4532</td>\n",
       "      <td>5051</td>\n",
       "      <td>4646</td>\n",
       "      <td>4080</td>\n",
       "      <td>6280</td>\n",
       "      <td>5623</td>\n",
       "      <td>109091</td>\n",
       "    </tr>\n",
       "    <tr>\n",
       "      <th>Jamaica</th>\n",
       "      <td>Latin America and the Caribbean</td>\n",
       "      <td>Caribbean</td>\n",
       "      <td>Developing regions</td>\n",
       "      <td>3198</td>\n",
       "      <td>2634</td>\n",
       "      <td>2661</td>\n",
       "      <td>2455</td>\n",
       "      <td>2508</td>\n",
       "      <td>2938</td>\n",
       "      <td>4649</td>\n",
       "      <td>...</td>\n",
       "      <td>1945</td>\n",
       "      <td>1722</td>\n",
       "      <td>2141</td>\n",
       "      <td>2334</td>\n",
       "      <td>2456</td>\n",
       "      <td>2321</td>\n",
       "      <td>2059</td>\n",
       "      <td>2182</td>\n",
       "      <td>2479</td>\n",
       "      <td>106431</td>\n",
       "    </tr>\n",
       "    <tr>\n",
       "      <th>Viet Nam</th>\n",
       "      <td>Asia</td>\n",
       "      <td>South-Eastern Asia</td>\n",
       "      <td>Developing regions</td>\n",
       "      <td>1191</td>\n",
       "      <td>1829</td>\n",
       "      <td>2162</td>\n",
       "      <td>3404</td>\n",
       "      <td>7583</td>\n",
       "      <td>5907</td>\n",
       "      <td>2741</td>\n",
       "      <td>...</td>\n",
       "      <td>1852</td>\n",
       "      <td>3153</td>\n",
       "      <td>2574</td>\n",
       "      <td>1784</td>\n",
       "      <td>2171</td>\n",
       "      <td>1942</td>\n",
       "      <td>1723</td>\n",
       "      <td>1731</td>\n",
       "      <td>2112</td>\n",
       "      <td>97146</td>\n",
       "    </tr>\n",
       "    <tr>\n",
       "      <th>Romania</th>\n",
       "      <td>Europe</td>\n",
       "      <td>Eastern Europe</td>\n",
       "      <td>Developed regions</td>\n",
       "      <td>375</td>\n",
       "      <td>438</td>\n",
       "      <td>583</td>\n",
       "      <td>543</td>\n",
       "      <td>524</td>\n",
       "      <td>604</td>\n",
       "      <td>656</td>\n",
       "      <td>...</td>\n",
       "      <td>5048</td>\n",
       "      <td>4468</td>\n",
       "      <td>3834</td>\n",
       "      <td>2837</td>\n",
       "      <td>2076</td>\n",
       "      <td>1922</td>\n",
       "      <td>1776</td>\n",
       "      <td>1588</td>\n",
       "      <td>1512</td>\n",
       "      <td>93585</td>\n",
       "    </tr>\n",
       "  </tbody>\n",
       "</table>\n",
       "<p>15 rows × 38 columns</p>\n",
       "</div>"
      ],
      "text/plain": [
       "                                                                          Continent  \\\n",
       "Country                                                                               \n",
       "India                                                                          Asia   \n",
       "China                                                                          Asia   \n",
       "United Kingdom of Great Britain and Northern Ir...                           Europe   \n",
       "Philippines                                                                    Asia   \n",
       "Pakistan                                                                       Asia   \n",
       "United States of America                                           Northern America   \n",
       "Iran (Islamic Republic of)                                                     Asia   \n",
       "Sri Lanka                                                                      Asia   \n",
       "Republic of Korea                                                              Asia   \n",
       "Poland                                                                       Europe   \n",
       "Lebanon                                                                        Asia   \n",
       "France                                                                       Europe   \n",
       "Jamaica                                             Latin America and the Caribbean   \n",
       "Viet Nam                                                                       Asia   \n",
       "Romania                                                                      Europe   \n",
       "\n",
       "                                                                Region  \\\n",
       "Country                                                                  \n",
       "India                                                    Southern Asia   \n",
       "China                                                     Eastern Asia   \n",
       "United Kingdom of Great Britain and Northern Ir...     Northern Europe   \n",
       "Philippines                                         South-Eastern Asia   \n",
       "Pakistan                                                 Southern Asia   \n",
       "United States of America                              Northern America   \n",
       "Iran (Islamic Republic of)                               Southern Asia   \n",
       "Sri Lanka                                                Southern Asia   \n",
       "Republic of Korea                                         Eastern Asia   \n",
       "Poland                                                  Eastern Europe   \n",
       "Lebanon                                                   Western Asia   \n",
       "France                                                  Western Europe   \n",
       "Jamaica                                                      Caribbean   \n",
       "Viet Nam                                            South-Eastern Asia   \n",
       "Romania                                                 Eastern Europe   \n",
       "\n",
       "                                                               DevName   1980  \\\n",
       "Country                                                                         \n",
       "India                                               Developing regions   8880   \n",
       "China                                               Developing regions   5123   \n",
       "United Kingdom of Great Britain and Northern Ir...   Developed regions  22045   \n",
       "Philippines                                         Developing regions   6051   \n",
       "Pakistan                                            Developing regions    978   \n",
       "United States of America                             Developed regions   9378   \n",
       "Iran (Islamic Republic of)                          Developing regions   1172   \n",
       "Sri Lanka                                           Developing regions    185   \n",
       "Republic of Korea                                   Developing regions   1011   \n",
       "Poland                                               Developed regions    863   \n",
       "Lebanon                                             Developing regions   1409   \n",
       "France                                               Developed regions   1729   \n",
       "Jamaica                                             Developing regions   3198   \n",
       "Viet Nam                                            Developing regions   1191   \n",
       "Romania                                              Developed regions    375   \n",
       "\n",
       "                                                     1981   1982   1983  \\\n",
       "Country                                                                   \n",
       "India                                                8670   8147   7338   \n",
       "China                                                6682   3308   1863   \n",
       "United Kingdom of Great Britain and Northern Ir...  24796  20620  10015   \n",
       "Philippines                                          5921   5249   4562   \n",
       "Pakistan                                              972   1201    900   \n",
       "United States of America                            10030   9074   7100   \n",
       "Iran (Islamic Republic of)                           1429   1822   1592   \n",
       "Sri Lanka                                             371    290    197   \n",
       "Republic of Korea                                    1456   1572   1081   \n",
       "Poland                                               2930   5881   4546   \n",
       "Lebanon                                              1119   1159    789   \n",
       "France                                               2027   2219   1490   \n",
       "Jamaica                                              2634   2661   2455   \n",
       "Viet Nam                                             1829   2162   3404   \n",
       "Romania                                               438    583    543   \n",
       "\n",
       "                                                     1984  1985  1986  ...  \\\n",
       "Country                                                                ...   \n",
       "India                                                5704  4211  7150  ...   \n",
       "China                                                1527  1816  1960  ...   \n",
       "United Kingdom of Great Britain and Northern Ir...  10170  9564  9470  ...   \n",
       "Philippines                                          3801  3150  4166  ...   \n",
       "Pakistan                                              668   514   691  ...   \n",
       "United States of America                             6661  6543  7074  ...   \n",
       "Iran (Islamic Republic of)                           1977  1648  1794  ...   \n",
       "Sri Lanka                                            1086   845  1838  ...   \n",
       "Republic of Korea                                     847   962  1208  ...   \n",
       "Poland                                               3588  2819  4808  ...   \n",
       "Lebanon                                              1253  1683  2576  ...   \n",
       "France                                               1169  1177  1298  ...   \n",
       "Jamaica                                              2508  2938  4649  ...   \n",
       "Viet Nam                                             7583  5907  2741  ...   \n",
       "Romania                                               524   604   656  ...   \n",
       "\n",
       "                                                     2005   2006   2007  \\\n",
       "Country                                                                   \n",
       "India                                               36210  33848  28742   \n",
       "China                                               42584  33518  27642   \n",
       "United Kingdom of Great Britain and Northern Ir...   7258   7140   8216   \n",
       "Philippines                                         18139  18400  19837   \n",
       "Pakistan                                            14314  13127  10124   \n",
       "United States of America                             8394   9613   9463   \n",
       "Iran (Islamic Republic of)                           5837   7480   6974   \n",
       "Sri Lanka                                            4930   4714   4123   \n",
       "Republic of Korea                                    5832   6215   5920   \n",
       "Poland                                               1405   1263   1235   \n",
       "Lebanon                                              3709   3802   3467   \n",
       "France                                               4429   4002   4290   \n",
       "Jamaica                                              1945   1722   2141   \n",
       "Viet Nam                                             1852   3153   2574   \n",
       "Romania                                              5048   4468   3834   \n",
       "\n",
       "                                                     2008   2009   2010  \\\n",
       "Country                                                                   \n",
       "India                                               28261  29456  34235   \n",
       "China                                               30037  29622  30391   \n",
       "United Kingdom of Great Britain and Northern Ir...   8979   8876   8724   \n",
       "Philippines                                         24887  28573  38617   \n",
       "Pakistan                                             8994   7217   6811   \n",
       "United States of America                            10190   8995   8142   \n",
       "Iran (Islamic Republic of)                           6475   6580   7477   \n",
       "Sri Lanka                                            4756   4547   4422   \n",
       "Republic of Korea                                    7294   5874   5537   \n",
       "Poland                                               1267   1013    795   \n",
       "Lebanon                                              3566   3077   3432   \n",
       "France                                               4532   5051   4646   \n",
       "Jamaica                                              2334   2456   2321   \n",
       "Viet Nam                                             1784   2171   1942   \n",
       "Romania                                              2837   2076   1922   \n",
       "\n",
       "                                                     2011   2012   2013  \\\n",
       "Country                                                                   \n",
       "India                                               27509  30933  33087   \n",
       "China                                               28502  33024  34129   \n",
       "United Kingdom of Great Britain and Northern Ir...   6204   6195   5827   \n",
       "Philippines                                         36765  34315  29544   \n",
       "Pakistan                                             7468  11227  12603   \n",
       "United States of America                             7676   7891   8501   \n",
       "Iran (Islamic Republic of)                           7479   7534  11291   \n",
       "Sri Lanka                                            3309   3338   2394   \n",
       "Republic of Korea                                    4588   5316   4509   \n",
       "Poland                                                720    779    852   \n",
       "Lebanon                                              3072   1614   2172   \n",
       "France                                               4080   6280   5623   \n",
       "Jamaica                                              2059   2182   2479   \n",
       "Viet Nam                                             1723   1731   2112   \n",
       "Romania                                              1776   1588   1512   \n",
       "\n",
       "                                                     Total  \n",
       "Country                                                     \n",
       "India                                               691904  \n",
       "China                                               659962  \n",
       "United Kingdom of Great Britain and Northern Ir...  551500  \n",
       "Philippines                                         511391  \n",
       "Pakistan                                            241600  \n",
       "United States of America                            241122  \n",
       "Iran (Islamic Republic of)                          175923  \n",
       "Sri Lanka                                           148358  \n",
       "Republic of Korea                                   142581  \n",
       "Poland                                              139241  \n",
       "Lebanon                                             115359  \n",
       "France                                              109091  \n",
       "Jamaica                                             106431  \n",
       "Viet Nam                                             97146  \n",
       "Romania                                              93585  \n",
       "\n",
       "[15 rows x 38 columns]"
      ]
     },
     "execution_count": 28,
     "metadata": {},
     "output_type": "execute_result"
    }
   ],
   "source": [
    "### type your answer here\n",
    "df_top15 = df_can.sort_values(['Total'], ascending=False, axis=0).head(15)\n",
    "df_top15"
   ]
  },
  {
   "cell_type": "markdown",
   "metadata": {
    "button": false,
    "new_sheet": false,
    "run_control": {
     "read_only": false
    }
   },
   "source": [
    "<details><summary>Click here for a sample python solution</summary>\n",
    "\n",
    "```python\n",
    "    #The correct answer is:\n",
    "    df_top15 = df_can.sort_values(['Total'], ascending=False, axis=0).head(15)\n",
    "    df_top15\n",
    "\n",
    "```\n",
    "\n",
    "</details>\n"
   ]
  },
  {
   "cell_type": "markdown",
   "metadata": {
    "button": false,
    "new_sheet": false,
    "run_control": {
     "read_only": false
    }
   },
   "source": [
    "Step 2: Create a new dataframe which contains the aggregate for each decade. One way to do that:\n",
    "\n",
    "1.  Create a list of all years in decades 80's, 90's, and 00's.\n",
    "2.  Slice the original dataframe df_can to create a series for each decade and sum across all years for each country.\n",
    "3.  Merge the three series into a new data frame. Call your dataframe **new_df**.\n"
   ]
  },
  {
   "cell_type": "code",
   "execution_count": 29,
   "metadata": {
    "button": false,
    "collapsed": false,
    "jupyter": {
     "outputs_hidden": false
    },
    "new_sheet": false,
    "run_control": {
     "read_only": false
    },
    "scrolled": true
   },
   "outputs": [
    {
     "data": {
      "text/html": [
       "<div>\n",
       "<style scoped>\n",
       "    .dataframe tbody tr th:only-of-type {\n",
       "        vertical-align: middle;\n",
       "    }\n",
       "\n",
       "    .dataframe tbody tr th {\n",
       "        vertical-align: top;\n",
       "    }\n",
       "\n",
       "    .dataframe thead th {\n",
       "        text-align: right;\n",
       "    }\n",
       "</style>\n",
       "<table border=\"1\" class=\"dataframe\">\n",
       "  <thead>\n",
       "    <tr style=\"text-align: right;\">\n",
       "      <th></th>\n",
       "      <th>1980s</th>\n",
       "      <th>1990s</th>\n",
       "      <th>2000s</th>\n",
       "    </tr>\n",
       "    <tr>\n",
       "      <th>Country</th>\n",
       "      <th></th>\n",
       "      <th></th>\n",
       "      <th></th>\n",
       "    </tr>\n",
       "  </thead>\n",
       "  <tbody>\n",
       "    <tr>\n",
       "      <th>India</th>\n",
       "      <td>82154</td>\n",
       "      <td>180395</td>\n",
       "      <td>303591</td>\n",
       "    </tr>\n",
       "    <tr>\n",
       "      <th>China</th>\n",
       "      <td>32003</td>\n",
       "      <td>161528</td>\n",
       "      <td>340385</td>\n",
       "    </tr>\n",
       "    <tr>\n",
       "      <th>United Kingdom of Great Britain and Northern Ireland</th>\n",
       "      <td>179171</td>\n",
       "      <td>261966</td>\n",
       "      <td>83413</td>\n",
       "    </tr>\n",
       "    <tr>\n",
       "      <th>Philippines</th>\n",
       "      <td>60764</td>\n",
       "      <td>138482</td>\n",
       "      <td>172904</td>\n",
       "    </tr>\n",
       "    <tr>\n",
       "      <th>Pakistan</th>\n",
       "      <td>10591</td>\n",
       "      <td>65302</td>\n",
       "      <td>127598</td>\n",
       "    </tr>\n",
       "  </tbody>\n",
       "</table>\n",
       "</div>"
      ],
      "text/plain": [
       "                                                     1980s   1990s   2000s\n",
       "Country                                                                   \n",
       "India                                                82154  180395  303591\n",
       "China                                                32003  161528  340385\n",
       "United Kingdom of Great Britain and Northern Ir...  179171  261966   83413\n",
       "Philippines                                          60764  138482  172904\n",
       "Pakistan                                             10591   65302  127598"
      ]
     },
     "execution_count": 29,
     "metadata": {},
     "output_type": "execute_result"
    }
   ],
   "source": [
    "### type your answer here\n",
    "\n",
    "\n",
    "#The correct answer is:\n",
    "\n",
    "# create a list of all years in decades 80's, 90's, and 00's\n",
    "years_80s = list(map(str, range(1980, 1990))) \n",
    "years_90s = list(map(str, range(1990, 2000))) \n",
    "years_00s = list(map(str, range(2000, 2010))) \n",
    "\n",
    "# slice the original dataframe df_can to create a series for each decade\n",
    "df_80s = df_top15.loc[:, years_80s].sum(axis=1) \n",
    "df_90s = df_top15.loc[:, years_90s].sum(axis=1) \n",
    "df_00s = df_top15.loc[:, years_00s].sum(axis=1)\n",
    "\n",
    "# merge the three series into a new data frame\n",
    "new_df = pd.DataFrame({'1980s': df_80s, '1990s': df_90s, '2000s':df_00s}) \n",
    "\n",
    "# display dataframe\n",
    "new_df.head()"
   ]
  },
  {
   "cell_type": "markdown",
   "metadata": {
    "button": false,
    "new_sheet": false,
    "run_control": {
     "read_only": false
    }
   },
   "source": [
    "<details><summary>Click here for a sample python solution</summary>\n",
    "\n",
    "```python\n",
    "    #The correct answer is:\n",
    "    \n",
    "    # create a list of all years in decades 80's, 90's, and 00's\n",
    "    years_80s = list(map(str, range(1980, 1990))) \n",
    "    years_90s = list(map(str, range(1990, 2000))) \n",
    "    years_00s = list(map(str, range(2000, 2010))) \n",
    "\n",
    "    # slice the original dataframe df_can to create a series for each decade\n",
    "    df_80s = df_top15.loc[:, years_80s].sum(axis=1) \n",
    "    df_90s = df_top15.loc[:, years_90s].sum(axis=1) \n",
    "    df_00s = df_top15.loc[:, years_00s].sum(axis=1)\n",
    "\n",
    "    # merge the three series into a new data frame\n",
    "    new_df = pd.DataFrame({'1980s': df_80s, '1990s': df_90s, '2000s':df_00s}) \n",
    "\n",
    "    # display dataframe\n",
    "    new_df.head()\n",
    "\n",
    "\n",
    "```\n",
    "\n",
    "</details>\n"
   ]
  },
  {
   "cell_type": "markdown",
   "metadata": {
    "button": false,
    "new_sheet": false,
    "run_control": {
     "read_only": false
    }
   },
   "source": [
    "Let's learn more about the statistics associated with the dataframe using the `describe()` method.\n"
   ]
  },
  {
   "cell_type": "code",
   "execution_count": 30,
   "metadata": {
    "button": false,
    "collapsed": false,
    "jupyter": {
     "outputs_hidden": false
    },
    "new_sheet": false,
    "run_control": {
     "read_only": false
    },
    "scrolled": true
   },
   "outputs": [
    {
     "data": {
      "text/html": [
       "<div>\n",
       "<style scoped>\n",
       "    .dataframe tbody tr th:only-of-type {\n",
       "        vertical-align: middle;\n",
       "    }\n",
       "\n",
       "    .dataframe tbody tr th {\n",
       "        vertical-align: top;\n",
       "    }\n",
       "\n",
       "    .dataframe thead th {\n",
       "        text-align: right;\n",
       "    }\n",
       "</style>\n",
       "<table border=\"1\" class=\"dataframe\">\n",
       "  <thead>\n",
       "    <tr style=\"text-align: right;\">\n",
       "      <th></th>\n",
       "      <th>1980s</th>\n",
       "      <th>1990s</th>\n",
       "      <th>2000s</th>\n",
       "    </tr>\n",
       "  </thead>\n",
       "  <tbody>\n",
       "    <tr>\n",
       "      <th>count</th>\n",
       "      <td>15.000000</td>\n",
       "      <td>15.000000</td>\n",
       "      <td>15.000000</td>\n",
       "    </tr>\n",
       "    <tr>\n",
       "      <th>mean</th>\n",
       "      <td>44418.333333</td>\n",
       "      <td>85594.666667</td>\n",
       "      <td>97471.533333</td>\n",
       "    </tr>\n",
       "    <tr>\n",
       "      <th>std</th>\n",
       "      <td>44190.676455</td>\n",
       "      <td>68237.560246</td>\n",
       "      <td>100583.204205</td>\n",
       "    </tr>\n",
       "    <tr>\n",
       "      <th>min</th>\n",
       "      <td>7613.000000</td>\n",
       "      <td>30028.000000</td>\n",
       "      <td>13629.000000</td>\n",
       "    </tr>\n",
       "    <tr>\n",
       "      <th>25%</th>\n",
       "      <td>16698.000000</td>\n",
       "      <td>39259.000000</td>\n",
       "      <td>36101.500000</td>\n",
       "    </tr>\n",
       "    <tr>\n",
       "      <th>50%</th>\n",
       "      <td>30638.000000</td>\n",
       "      <td>56915.000000</td>\n",
       "      <td>65794.000000</td>\n",
       "    </tr>\n",
       "    <tr>\n",
       "      <th>75%</th>\n",
       "      <td>59183.000000</td>\n",
       "      <td>104451.500000</td>\n",
       "      <td>105505.500000</td>\n",
       "    </tr>\n",
       "    <tr>\n",
       "      <th>max</th>\n",
       "      <td>179171.000000</td>\n",
       "      <td>261966.000000</td>\n",
       "      <td>340385.000000</td>\n",
       "    </tr>\n",
       "  </tbody>\n",
       "</table>\n",
       "</div>"
      ],
      "text/plain": [
       "               1980s          1990s          2000s\n",
       "count      15.000000      15.000000      15.000000\n",
       "mean    44418.333333   85594.666667   97471.533333\n",
       "std     44190.676455   68237.560246  100583.204205\n",
       "min      7613.000000   30028.000000   13629.000000\n",
       "25%     16698.000000   39259.000000   36101.500000\n",
       "50%     30638.000000   56915.000000   65794.000000\n",
       "75%     59183.000000  104451.500000  105505.500000\n",
       "max    179171.000000  261966.000000  340385.000000"
      ]
     },
     "execution_count": 30,
     "metadata": {},
     "output_type": "execute_result"
    }
   ],
   "source": [
    "### type your answer here\n",
    "new_df.describe()"
   ]
  },
  {
   "cell_type": "markdown",
   "metadata": {
    "button": false,
    "new_sheet": false,
    "run_control": {
     "read_only": false
    }
   },
  {
   "cell_type": "markdown",
   "metadata": {
    "button": false,
    "new_sheet": false,
    "run_control": {
     "read_only": false
    }
   },
   "source": [
    "Step 3: Plot the box plots.\n"
   ]
  },
  {
   "cell_type": "code",
   "execution_count": 31,
   "metadata": {
    "button": false,
    "collapsed": false,
    "jupyter": {
     "outputs_hidden": false
    },
    "new_sheet": false,
    "run_control": {
     "read_only": false
    }
   },
   "outputs": [
    {
     "data": {
      "image/png": "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\n",
      "text/plain": [
       "<Figure size 720x432 with 1 Axes>"
      ]
     },
     "metadata": {},
     "output_type": "display_data"
    }
   ],
   "source": [
    "### type your answer here\n",
    "new_df.plot(kind='box', figsize=(10, 6))\n",
    "\n",
    "plt.title('Immigration from top 15 countries for decades 80s, 90s and 2000s')\n",
    "\n",
    "plt.show()\n"
   ]
  },
  {
   "cell_type": "markdown",
   "metadata": {
    "button": false,
    "new_sheet": false,
    "run_control": {
     "read_only": false
    }
   },

  {
   "cell_type": "markdown",
   "metadata": {
    "button": false,
    "new_sheet": false,
    "run_control": {
     "read_only": false
    }
   },
   "source": [
    "Note how the box plot differs from the summary table created. The box plot scans the data and identifies the outliers. In order to be an outlier, the data value must be:<br>\n",
    "\n",
    "*   larger than Q3 by at least 1.5 times the interquartile range (IQR), or,\n",
    "*   smaller than Q1 by at least 1.5 times the IQR.\n",
    "\n",
    "Let's look at decade 2000s as an example: <br>\n",
    "\n",
    "*   Q1 (25%) = 36,101.5 <br>\n",
    "*   Q3 (75%) = 105,505.5 <br>\n",
    "*   IQR = Q3 - Q1 = 69,404 <br>\n",
    "\n",
    "Using the definition of outlier, any value that is greater than Q3 by 1.5 times IQR will be flagged as outlier.\n",
    "\n",
    "Outlier > 105,505.5 + (1.5 \\* 69,404) <br>\n",
    "Outlier > 209,611.5\n"
   ]
  },
  {
   "cell_type": "code",
   "execution_count": 32,
   "metadata": {
    "button": false,
    "collapsed": false,
    "jupyter": {
     "outputs_hidden": false
    },
    "new_sheet": false,
    "run_control": {
     "read_only": false
    },
    "scrolled": true
   },
   "outputs": [
    {
     "data": {
      "text/html": [
       "<div>\n",
       "<style scoped>\n",
       "    .dataframe tbody tr th:only-of-type {\n",
       "        vertical-align: middle;\n",
       "    }\n",
       "\n",
       "    .dataframe tbody tr th {\n",
       "        vertical-align: top;\n",
       "    }\n",
       "\n",
       "    .dataframe thead th {\n",
       "        text-align: right;\n",
       "    }\n",
       "</style>\n",
       "<table border=\"1\" class=\"dataframe\">\n",
       "  <thead>\n",
       "    <tr style=\"text-align: right;\">\n",
       "      <th></th>\n",
       "      <th>Country</th>\n",
       "      <th>1980s</th>\n",
       "      <th>1990s</th>\n",
       "      <th>2000s</th>\n",
       "    </tr>\n",
       "  </thead>\n",
       "  <tbody>\n",
       "    <tr>\n",
       "      <th>0</th>\n",
       "      <td>India</td>\n",
       "      <td>82154</td>\n",
       "      <td>180395</td>\n",
       "      <td>303591</td>\n",
       "    </tr>\n",
       "    <tr>\n",
       "      <th>1</th>\n",
       "      <td>China</td>\n",
       "      <td>32003</td>\n",
       "      <td>161528</td>\n",
       "      <td>340385</td>\n",
       "    </tr>\n",
       "  </tbody>\n",
       "</table>\n",
       "</div>"
      ],
      "text/plain": [
       "  Country  1980s   1990s   2000s\n",
       "0   India  82154  180395  303591\n",
       "1   China  32003  161528  340385"
      ]
     },
     "execution_count": 32,
     "metadata": {},
     "output_type": "execute_result"
    }
   ],
   "source": [
    "# let's check how many entries fall above the outlier threshold \n",
    "new_df=new_df.reset_index()\n",
    "new_df[new_df['2000s']> 209611.5]"
   ]
  },
  {
   "cell_type": "markdown",
   "metadata": {
    "button": false,
    "new_sheet": false,
    "run_control": {
     "read_only": false
    }
   },
   "source": [
    "China and India are both considered as outliers since their population for the decade exceeds 209,611.5.\n",
    "\n",
    "The box plot is an advanced visualizaiton tool, and there are many options and customizations that exceed the scope of this lab. Please refer to [Matplotlib documentation](http://matplotlib.org/api/pyplot_api.html?utm_medium=Exinfluencer&utm_source=Exinfluencer&utm_content=000026UJ&utm_term=10006555&utm_id=NA-SkillsNetwork-Channel-SkillsNetworkCoursesIBMDeveloperSkillsNetworkDV0101ENSkillsNetwork20297740-2021-01-01#matplotlib.pyplot.boxplot) on box plots for more information.\n"
   ]
  },
  {
   "cell_type": "markdown",
   "metadata": {
    "button": false,
    "new_sheet": false,
    "run_control": {
     "read_only": false
    }
   },
   "source": [
    "# Scatter Plots <a id=\"10\"></a>\n",
    "\n",
    "A `scatter plot` (2D) is a useful method of comparing variables against each other. `Scatter` plots look similar to `line plots` in that they both map independent and dependent variables on a 2D graph. While the data points are connected together by a line in a line plot, they are not connected in a scatter plot. The data in a scatter plot is considered to express a trend. With further analysis using tools like regression, we can mathematically calculate this relationship and use it to predict trends outside the dataset.\n",
    "\n",
    "Let's start by exploring the following:\n",
    "\n",
    "Using a `scatter plot`, let's visualize the trend of total immigrantion to Canada (all countries combined) for the years 1980 - 2013.\n"
   ]
  },
  {
   "cell_type": "markdown",
   "metadata": {
    "button": false,
    "new_sheet": false,
    "run_control": {
     "read_only": false
    }
   },
   "source": [
    "Step 1: Get the dataset. Since we are expecting to use the relationship betewen `years` and `total population`, we will convert `years` to `int` type.\n"
   ]
  },
  {
   "cell_type": "code",
   "execution_count": 33,
   "metadata": {
    "button": false,
    "collapsed": false,
    "jupyter": {
     "outputs_hidden": false
    },
    "new_sheet": false,
    "run_control": {
     "read_only": false
    }
   },
   "outputs": [
    {
     "data": {
      "text/html": [
       "<div>\n",
       "<style scoped>\n",
       "    .dataframe tbody tr th:only-of-type {\n",
       "        vertical-align: middle;\n",
       "    }\n",
       "\n",
       "    .dataframe tbody tr th {\n",
       "        vertical-align: top;\n",
       "    }\n",
       "\n",
       "    .dataframe thead th {\n",
       "        text-align: right;\n",
       "    }\n",
       "</style>\n",
       "<table border=\"1\" class=\"dataframe\">\n",
       "  <thead>\n",
       "    <tr style=\"text-align: right;\">\n",
       "      <th></th>\n",
       "      <th>year</th>\n",
       "      <th>total</th>\n",
       "    </tr>\n",
       "  </thead>\n",
       "  <tbody>\n",
       "    <tr>\n",
       "      <th>0</th>\n",
       "      <td>1980</td>\n",
       "      <td>99137</td>\n",
       "    </tr>\n",
       "    <tr>\n",
       "      <th>1</th>\n",
       "      <td>1981</td>\n",
       "      <td>110563</td>\n",
       "    </tr>\n",
       "    <tr>\n",
       "      <th>2</th>\n",
       "      <td>1982</td>\n",
       "      <td>104271</td>\n",
       "    </tr>\n",
       "    <tr>\n",
       "      <th>3</th>\n",
       "      <td>1983</td>\n",
       "      <td>75550</td>\n",
       "    </tr>\n",
       "    <tr>\n",
       "      <th>4</th>\n",
       "      <td>1984</td>\n",
       "      <td>73417</td>\n",
       "    </tr>\n",
       "  </tbody>\n",
       "</table>\n",
       "</div>"
      ],
      "text/plain": [
       "   year   total\n",
       "0  1980   99137\n",
       "1  1981  110563\n",
       "2  1982  104271\n",
       "3  1983   75550\n",
       "4  1984   73417"
      ]
     },
     "execution_count": 33,
     "metadata": {},
     "output_type": "execute_result"
    }
   ],
   "source": [
    "# we can use the sum() method to get the total population per year\n",
    "df_tot = pd.DataFrame(df_can[years].sum(axis=0))\n",
    "\n",
    "# change the years to type int (useful for regression later on)\n",
    "df_tot.index = map(int, df_tot.index)\n",
    "\n",
    "# reset the index to put in back in as a column in the df_tot dataframe\n",
    "df_tot.reset_index(inplace = True)\n",
    "\n",
    "# rename columns\n",
    "df_tot.columns = ['year', 'total']\n",
    "\n",
    "# view the final dataframe\n",
    "df_tot.head()"
   ]
  },
  {
   "cell_type": "markdown",
   "metadata": {
    "button": false,
    "new_sheet": false,
    "run_control": {
     "read_only": false
    }
   },
   "source": [
    "Step 2: Plot the data. In `Matplotlib`, we can create a `scatter` plot set by passing in `kind='scatter'` as plot argument. We will also need to pass in `x` and `y` keywords to specify the columns that go on the x- and the y-axis.\n"
   ]
  },
  {
   "cell_type": "code",
   "execution_count": 34,
   "metadata": {
    "button": false,
    "collapsed": false,
    "jupyter": {
     "outputs_hidden": false
    },
    "new_sheet": false,
    "run_control": {
     "read_only": false
    }
   },
   "outputs": [
    {
     "data": {
      "image/png": "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\n",
      "text/plain": [
       "<Figure size 720x432 with 1 Axes>"
      ]
     },
     "metadata": {},
     "output_type": "display_data"
    }
   ],
   "source": [
    "df_tot.plot(kind='scatter', x='year', y='total', figsize=(10, 6), color='darkblue')\n",
    "\n",
    "plt.title('Total Immigration to Canada from 1980 - 2013')\n",
    "plt.xlabel('Year')\n",
    "plt.ylabel('Number of Immigrants')\n",
    "\n",
    "plt.show()"
   ]
  },
  {
   "cell_type": "markdown",
   "metadata": {
    "button": false,
    "new_sheet": false,
    "run_control": {
     "read_only": false
    }
   },
   "source": [
    "Notice how the scatter plot does not connect the data  points together. We can clearly observe an upward trend in the data: as the years go by, the total number of immigrants increases. We can mathematically analyze this upward trend using a regression line (line of best fit).\n"
   ]
  },
  {
   "cell_type": "markdown",
   "metadata": {
    "button": false,
    "new_sheet": false,
    "run_control": {
     "read_only": false
    }
   },
   "source": [
    "So let's try to plot a linear line of best fit, and use it to  predict the number of immigrants in 2015.\n",
    "\n",
    "Step 1: Get the equation of line of best fit. We will use **Numpy**'s `polyfit()` method by passing in the following:\n",
    "\n",
    "*   `x`: x-coordinates of the data.\n",
    "*   `y`: y-coordinates of the data.\n",
    "*   `deg`: Degree of fitting polynomial. 1 = linear, 2 = quadratic, and so on.\n"
   ]
  },
  {
   "cell_type": "code",
   "execution_count": 35,
   "metadata": {
    "button": false,
    "collapsed": false,
    "jupyter": {
     "outputs_hidden": false
    },
    "new_sheet": false,
    "run_control": {
     "read_only": false
    }
   },
   "outputs": [
    {
     "data": {
      "text/plain": [
       "array([ 5.56709228e+03, -1.09261952e+07])"
      ]
     },
     "execution_count": 35,
     "metadata": {},
     "output_type": "execute_result"
    }
   ],
   "source": [
    "x = df_tot['year']      # year on x-axis\n",
    "y = df_tot['total']     # total on y-axis\n",
    "fit = np.polyfit(x, y, deg=1)\n",
    "\n",
    "fit"
   ]
  },
  {
   "cell_type": "markdown",
   "metadata": {
    "button": false,
    "new_sheet": false,
    "run_control": {
     "read_only": false
    }
   },
   "source": [
    "The output is an array with the polynomial coefficients, highest powers first. Since we are plotting a linear regression `y= a * x + b`, our output has 2 elements `[5.56709228e+03, -1.09261952e+07]` with the the slope in position 0 and intercept in position 1.\n",
    "\n",
    "Step 2: Plot the regression line on the `scatter plot`.\n"
   ]
  },
  {
   "cell_type": "code",
   "execution_count": 36,
   "metadata": {
    "button": false,
    "collapsed": false,
    "jupyter": {
     "outputs_hidden": false
    },
    "new_sheet": false,
    "run_control": {
     "read_only": false
    }
   },
   "outputs": [
    {
     "data": {
      "image/png": "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\n",
      "text/plain": [
       "<Figure size 720x432 with 1 Axes>"
      ]
     },
     "metadata": {},
     "output_type": "display_data"
    },
    {
     "data": {
      "text/plain": [
       "'No. Immigrants = 5567 * Year + -10926195'"
      ]
     },
     "execution_count": 36,
     "metadata": {},
     "output_type": "execute_result"
    }
   ],
   "source": [
    "df_tot.plot(kind='scatter', x='year', y='total', figsize=(10, 6), color='darkblue')\n",
    "\n",
    "plt.title('Total Immigration to Canada from 1980 - 2013')\n",
    "plt.xlabel('Year')\n",
    "plt.ylabel('Number of Immigrants')\n",
    "\n",
    "# plot line of best fit\n",
    "plt.plot(x, fit[0] * x + fit[1], color='red') # recall that x is the Years\n",
    "plt.annotate('y={0:.0f} x + {1:.0f}'.format(fit[0], fit[1]), xy=(2000, 150000))\n",
    "\n",
    "plt.show()\n",
    "\n",
    "# print out the line of best fit\n",
    "'No. Immigrants = {0:.0f} * Year + {1:.0f}'.format(fit[0], fit[1]) "
   ]
  },
  {
   "cell_type": "markdown",
   "metadata": {
    "button": false,
    "new_sheet": false,
    "run_control": {
     "read_only": false
    }
   },
   "source": [
    "Using the equation of line of best fit, we can estimate the number of immigrants in 2015:\n",
    "\n",
    "```python\n",
    "No. Immigrants = 5567 * Year - 10926195\n",
    "No. Immigrants = 5567 * 2015 - 10926195\n",
    "No. Immigrants = 291,310\n",
    "```\n",
    "\n",
    "When compared to the actual from Citizenship and Immigration Canada's (CIC) [2016 Annual Report](http://www.cic.gc.ca/english/resources/publications/annual-report-2016/index.asp?utm_medium=Exinfluencer&utm_source=Exinfluencer&utm_content=000026UJ&utm_term=10006555&utm_id=NA-SkillsNetwork-Channel-SkillsNetworkCoursesIBMDeveloperSkillsNetworkDV0101ENSkillsNetwork20297740-2021-01-01), we see that Canada accepted 271,845 immigrants in 2015. Our estimated value of 291,310 is within 7% of the actual number, which is pretty good considering our original data came from United Nations (and might differ slightly from CIC data).\n",
    "\n",
    "As a side note, we can observe that immigration took a dip around 1993 - 1997. Further analysis into the topic revealed that in 1993 Canada introcuded Bill C-86 which introduced revisions to the refugee determination system, mostly restrictive. Further amendments to the Immigration Regulations cancelled the sponsorship required for \"assisted relatives\" and reduced the points awarded to them, making it more difficult for family members (other than nuclear family) to immigrate to Canada. These restrictive measures had a direct impact on the immigration numbers for the next several years.\n"
   ]
  },
  {
   "cell_type": "markdown",
   "metadata": {
    "button": false,
    "new_sheet": false,
    "run_control": {
     "read_only": false
    }
   },
   "source": [
    "**Question**: Create a scatter plot of the total immigration from Denmark, Norway, and Sweden to Canada from 1980 to 2013?\n"
   ]
  },
  {
   "cell_type": "markdown",
   "metadata": {
    "button": false,
    "new_sheet": false,
    "run_control": {
     "read_only": false
    }
   },
   "source": [
    "**Step 1**: Get the data:\n",
    "\n",
    "1.  Create a dataframe the consists of the numbers associated with Denmark, Norway, and Sweden only. Name it **df_countries**.\n",
    "2.  Sum the immigration numbers across all three countries for each year and turn the result into a dataframe. Name this new dataframe **df_total**.\n",
    "3.  Reset the index in place.\n",
    "4.  Rename the columns to **year** and **total**.\n",
    "5.  Display the resulting dataframe.\n"
   ]
  },
  {
   "cell_type": "code",
   "execution_count": 37,
   "metadata": {
    "button": false,
    "collapsed": false,
    "jupyter": {
     "outputs_hidden": false
    },
    "new_sheet": false,
    "run_control": {
     "read_only": false
    },
    "scrolled": true
   },
   "outputs": [
    {
     "data": {
      "text/html": [
       "<div>\n",
       "<style scoped>\n",
       "    .dataframe tbody tr th:only-of-type {\n",
       "        vertical-align: middle;\n",
       "    }\n",
       "\n",
       "    .dataframe tbody tr th {\n",
       "        vertical-align: top;\n",
       "    }\n",
       "\n",
       "    .dataframe thead th {\n",
       "        text-align: right;\n",
       "    }\n",
       "</style>\n",
       "<table border=\"1\" class=\"dataframe\">\n",
       "  <thead>\n",
       "    <tr style=\"text-align: right;\">\n",
       "      <th></th>\n",
       "      <th>year</th>\n",
       "      <th>total</th>\n",
       "    </tr>\n",
       "  </thead>\n",
       "  <tbody>\n",
       "    <tr>\n",
       "      <th>0</th>\n",
       "      <td>1980</td>\n",
       "      <td>669</td>\n",
       "    </tr>\n",
       "    <tr>\n",
       "      <th>1</th>\n",
       "      <td>1981</td>\n",
       "      <td>678</td>\n",
       "    </tr>\n",
       "    <tr>\n",
       "      <th>2</th>\n",
       "      <td>1982</td>\n",
       "      <td>627</td>\n",
       "    </tr>\n",
       "    <tr>\n",
       "      <th>3</th>\n",
       "      <td>1983</td>\n",
       "      <td>333</td>\n",
       "    </tr>\n",
       "    <tr>\n",
       "      <th>4</th>\n",
       "      <td>1984</td>\n",
       "      <td>252</td>\n",
       "    </tr>\n",
       "  </tbody>\n",
       "</table>\n",
       "</div>"
      ],
      "text/plain": [
       "   year  total\n",
       "0  1980    669\n",
       "1  1981    678\n",
       "2  1982    627\n",
       "3  1983    333\n",
       "4  1984    252"
      ]
     },
     "execution_count": 37,
     "metadata": {},
     "output_type": "execute_result"
    }
   ],
   "source": [
    "### type your answer here\n",
    "df_countries = df_can.loc[['Denmark', 'Norway', 'Sweden'], years].transpose()\n",
    "\n",
    "    # create df_total by summing across three countries for each year\n",
    "df_total = pd.DataFrame(df_countries.sum(axis=1))\n",
    "\n",
    "    # reset index in place\n",
    "df_total.reset_index(inplace=True)\n",
    "\n",
    "    # rename columns\n",
    "df_total.columns = ['year', 'total']\n",
    "\n",
    "    # change column year from string to int to create scatter plot\n",
    "df_total['year'] = df_total['year'].astype(int)\n",
    "\n",
    "    # show resulting dataframe\n",
    "df_total.head()\n"
   ]
  },
  {
   "cell_type": "markdown",
   "metadata": {
    "button": false,
    "new_sheet": false,
    "run_control": {
     "read_only": false
    }
   },

  {
   "cell_type": "markdown",
   "metadata": {
    "button": false,
    "new_sheet": false,
    "run_control": {
     "read_only": false
    }
   },
   "source": [
    "**Step 2**: Generate the scatter plot by plotting the total versus year in **df_total**.\n"
   ]
  },
  {
   "cell_type": "code",
   "execution_count": 38,
   "metadata": {
    "button": false,
    "collapsed": false,
    "jupyter": {
     "outputs_hidden": false
    },
    "new_sheet": false,
    "run_control": {
     "read_only": false
    }
   },
   "outputs": [
    {
     "data": {
      "image/png": "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\n",
      "text/plain": [
       "<Figure size 720x432 with 1 Axes>"
      ]
     },
     "metadata": {},
     "output_type": "display_data"
    }
   ],
   "source": [
    "### type your answer here\n",
    "df_total.plot(kind='scatter', x='year', y='total', figsize=(10, 6), color='darkblue')\n",
    "\n",
    "    # add title and label to axes\n",
    "plt.title('Immigration from Denmark, Norway, and Sweden to Canada from 1980 - 2013')\n",
    "plt.xlabel('Year')\n",
    "plt.ylabel('Number of Immigrants')\n",
    "\n",
    "    # show plot\n",
    "plt.show()\n",
    "\n"
   ]
  },
  {
   "cell_type": "markdown",
   "metadata": {
    "button": false,
    "new_sheet": false,
    "run_control": {
     "read_only": false
    }
   },
  {
   "cell_type": "markdown",
   "metadata": {
    "button": false,
    "new_sheet": false,
    "run_control": {
     "read_only": false
    }
   },
   "source": [
    "# Bubble Plots <a id=\"12\"></a>\n",
    "\n",
    "A `bubble plot` is a variation of the `scatter plot` that displays three dimensions of data (x, y, z). The data points are replaced with bubbles, and the size of the bubble is determined by the third variable `z`, also known as the weight. In `maplotlib`, we can pass in an array or scalar to the parameter `s` to `plot()`, that contains the weight of each point.\n",
    "\n",
    "**Let's start by analyzing the effect of Argentina's great depression**.\n",
    "\n",
    "Argentina suffered a great depression from 1998 to 2002, which caused widespread unemployment, riots, the fall of the government, and a default on the country's foreign debt. In terms of income, over 50% of Argentines were poor, and seven out of ten Argentine children were poor at the depth of the crisis in 2002.\n",
    "\n",
    "Let's analyze the effect of this crisis, and compare Argentina's immigration to that of it's neighbour Brazil. Let's do that using a `bubble plot` of immigration from Brazil and Argentina for the years 1980 - 2013. We will set the weights for the bubble as the *normalized* value of the population for each year.\n"
   ]
  },
  {
   "cell_type": "markdown",
   "metadata": {
    "button": false,
    "new_sheet": false,
    "run_control": {
     "read_only": false
    }
   },
   "source": [
    "**Step 1**: Get the data for Brazil and Argentina. Like in the previous example, we will convert the `Years` to type int and include it in the dataframe.\n"
   ]
  },
  {
   "cell_type": "code",
   "execution_count": 39,
   "metadata": {
    "button": false,
    "collapsed": false,
    "jupyter": {
     "outputs_hidden": false
    },
    "new_sheet": false,
    "run_control": {
     "read_only": false
    },
    "scrolled": true
   },
   "outputs": [
    {
     "data": {
      "text/html": [
       "<div>\n",
       "<style scoped>\n",
       "    .dataframe tbody tr th:only-of-type {\n",
       "        vertical-align: middle;\n",
       "    }\n",
       "\n",
       "    .dataframe tbody tr th {\n",
       "        vertical-align: top;\n",
       "    }\n",
       "\n",
       "    .dataframe thead th {\n",
       "        text-align: right;\n",
       "    }\n",
       "</style>\n",
       "<table border=\"1\" class=\"dataframe\">\n",
       "  <thead>\n",
       "    <tr style=\"text-align: right;\">\n",
       "      <th>Country</th>\n",
       "      <th>Year</th>\n",
       "      <th>Afghanistan</th>\n",
       "      <th>Albania</th>\n",
       "      <th>Algeria</th>\n",
       "      <th>American Samoa</th>\n",
       "      <th>Andorra</th>\n",
       "      <th>Angola</th>\n",
       "      <th>Antigua and Barbuda</th>\n",
       "      <th>Argentina</th>\n",
       "      <th>Armenia</th>\n",
       "      <th>...</th>\n",
       "      <th>United States of America</th>\n",
       "      <th>Uruguay</th>\n",
       "      <th>Uzbekistan</th>\n",
       "      <th>Vanuatu</th>\n",
       "      <th>Venezuela (Bolivarian Republic of)</th>\n",
       "      <th>Viet Nam</th>\n",
       "      <th>Western Sahara</th>\n",
       "      <th>Yemen</th>\n",
       "      <th>Zambia</th>\n",
       "      <th>Zimbabwe</th>\n",
       "    </tr>\n",
       "  </thead>\n",
       "  <tbody>\n",
       "    <tr>\n",
       "      <th>0</th>\n",
       "      <td>1980</td>\n",
       "      <td>16</td>\n",
       "      <td>1</td>\n",
       "      <td>80</td>\n",
       "      <td>0</td>\n",
       "      <td>0</td>\n",
       "      <td>1</td>\n",
       "      <td>0</td>\n",
       "      <td>368</td>\n",
       "      <td>0</td>\n",
       "      <td>...</td>\n",
       "      <td>9378</td>\n",
       "      <td>128</td>\n",
       "      <td>0</td>\n",
       "      <td>0</td>\n",
       "      <td>103</td>\n",
       "      <td>1191</td>\n",
       "      <td>0</td>\n",
       "      <td>1</td>\n",
       "      <td>11</td>\n",
       "      <td>72</td>\n",
       "    </tr>\n",
       "    <tr>\n",
       "      <th>1</th>\n",
       "      <td>1981</td>\n",
       "      <td>39</td>\n",
       "      <td>0</td>\n",
       "      <td>67</td>\n",
       "      <td>1</td>\n",
       "      <td>0</td>\n",
       "      <td>3</td>\n",
       "      <td>0</td>\n",
       "      <td>426</td>\n",
       "      <td>0</td>\n",
       "      <td>...</td>\n",
       "      <td>10030</td>\n",
       "      <td>132</td>\n",
       "      <td>0</td>\n",
       "      <td>0</td>\n",
       "      <td>117</td>\n",
       "      <td>1829</td>\n",
       "      <td>0</td>\n",
       "      <td>2</td>\n",
       "      <td>17</td>\n",
       "      <td>114</td>\n",
       "    </tr>\n",
       "    <tr>\n",
       "      <th>2</th>\n",
       "      <td>1982</td>\n",
       "      <td>39</td>\n",
       "      <td>0</td>\n",
       "      <td>71</td>\n",
       "      <td>0</td>\n",
       "      <td>0</td>\n",
       "      <td>6</td>\n",
       "      <td>0</td>\n",
       "      <td>626</td>\n",
       "      <td>0</td>\n",
       "      <td>...</td>\n",
       "      <td>9074</td>\n",
       "      <td>146</td>\n",
       "      <td>0</td>\n",
       "      <td>0</td>\n",
       "      <td>174</td>\n",
       "      <td>2162</td>\n",
       "      <td>0</td>\n",
       "      <td>1</td>\n",
       "      <td>11</td>\n",
       "      <td>102</td>\n",
       "    </tr>\n",
       "    <tr>\n",
       "      <th>3</th>\n",
       "      <td>1983</td>\n",
       "      <td>47</td>\n",
       "      <td>0</td>\n",
       "      <td>69</td>\n",
       "      <td>0</td>\n",
       "      <td>0</td>\n",
       "      <td>6</td>\n",
       "      <td>0</td>\n",
       "      <td>241</td>\n",
       "      <td>0</td>\n",
       "      <td>...</td>\n",
       "      <td>7100</td>\n",
       "      <td>105</td>\n",
       "      <td>0</td>\n",
       "      <td>0</td>\n",
       "      <td>124</td>\n",
       "      <td>3404</td>\n",
       "      <td>0</td>\n",
       "      <td>6</td>\n",
       "      <td>7</td>\n",
       "      <td>44</td>\n",
       "    </tr>\n",
       "    <tr>\n",
       "      <th>4</th>\n",
       "      <td>1984</td>\n",
       "      <td>71</td>\n",
       "      <td>0</td>\n",
       "      <td>63</td>\n",
       "      <td>0</td>\n",
       "      <td>0</td>\n",
       "      <td>4</td>\n",
       "      <td>42</td>\n",
       "      <td>237</td>\n",
       "      <td>0</td>\n",
       "      <td>...</td>\n",
       "      <td>6661</td>\n",
       "      <td>90</td>\n",
       "      <td>0</td>\n",
       "      <td>0</td>\n",
       "      <td>142</td>\n",
       "      <td>7583</td>\n",
       "      <td>0</td>\n",
       "      <td>0</td>\n",
       "      <td>16</td>\n",
       "      <td>32</td>\n",
       "    </tr>\n",
       "  </tbody>\n",
       "</table>\n",
       "<p>5 rows × 196 columns</p>\n",
       "</div>"
      ],
      "text/plain": [
       "Country  Year  Afghanistan  Albania  Algeria  American Samoa  Andorra  Angola  \\\n",
       "0        1980           16        1       80               0        0       1   \n",
       "1        1981           39        0       67               1        0       3   \n",
       "2        1982           39        0       71               0        0       6   \n",
       "3        1983           47        0       69               0        0       6   \n",
       "4        1984           71        0       63               0        0       4   \n",
       "\n",
       "Country  Antigua and Barbuda  Argentina  Armenia  ...  \\\n",
       "0                          0        368        0  ...   \n",
       "1                          0        426        0  ...   \n",
       "2                          0        626        0  ...   \n",
       "3                          0        241        0  ...   \n",
       "4                         42        237        0  ...   \n",
       "\n",
       "Country  United States of America  Uruguay  Uzbekistan  Vanuatu  \\\n",
       "0                            9378      128           0        0   \n",
       "1                           10030      132           0        0   \n",
       "2                            9074      146           0        0   \n",
       "3                            7100      105           0        0   \n",
       "4                            6661       90           0        0   \n",
       "\n",
       "Country  Venezuela (Bolivarian Republic of)  Viet Nam  Western Sahara  Yemen  \\\n",
       "0                                       103      1191               0      1   \n",
       "1                                       117      1829               0      2   \n",
       "2                                       174      2162               0      1   \n",
       "3                                       124      3404               0      6   \n",
       "4                                       142      7583               0      0   \n",
       "\n",
       "Country  Zambia  Zimbabwe  \n",
       "0            11        72  \n",
       "1            17       114  \n",
       "2            11       102  \n",
       "3             7        44  \n",
       "4            16        32  \n",
       "\n",
       "[5 rows x 196 columns]"
      ]
     },
     "execution_count": 39,
     "metadata": {},
     "output_type": "execute_result"
    }
   ],
   "source": [
    "# transposed dataframe\n",
    "df_can_t = df_can[years].transpose()\n",
    "\n",
    "# cast the Years (the index) to type int\n",
    "df_can_t.index = map(int, df_can_t.index)\n",
    "\n",
    "# let's label the index. This will automatically be the column name when we reset the index\n",
    "df_can_t.index.name = 'Year'\n",
    "\n",
    "# reset index to bring the Year in as a column\n",
    "df_can_t.reset_index(inplace=True)\n",
    "\n",
    "# view the changes\n",
    "df_can_t.head()"
   ]
  },
  {
   "cell_type": "markdown",
   "metadata": {
    "button": false,
    "new_sheet": false,
    "run_control": {
     "read_only": false
    }
   },
   "source": [
    "**Step 2**: Create the normalized weights.\n",
    "\n",
    "There are several methods of normalizations in statistics, each with its own use. In this case, we will use [feature scaling](https://en.wikipedia.org/wiki/Feature_scaling?utm_medium=Exinfluencer&utm_source=Exinfluencer&utm_content=000026UJ&utm_term=10006555&utm_id=NA-SkillsNetwork-Channel-SkillsNetworkCoursesIBMDeveloperSkillsNetworkDV0101ENSkillsNetwork20297740-2021-01-01) to bring all values into the range \\[0, 1]. The general formula is:\n",
    "\n",
    "<img src=\"https://cf-courses-data.s3.us.cloud-object-storage.appdomain.cloud/IBMDeveloperSkillsNetwork-DV0101EN-SkillsNetwork/labs/Module%203/images/Mod3Fig3FeatureScaling.png\" align=\"center\">\n",
    "\n",
    "where $X$ is the original value, $X'$ is the corresponding normalized value. The formula sets the max value in the dataset to 1, and sets the min value to 0. The rest of the data points are scaled to a value between 0-1 accordingly.\n"
   ]
  },
  {
   "cell_type": "code",
   "execution_count": 40,
   "metadata": {
    "button": false,
    "collapsed": false,
    "jupyter": {
     "outputs_hidden": false
    },
    "new_sheet": false,
    "run_control": {
     "read_only": false
    },
    "scrolled": true
   },
   "outputs": [],
   "source": [
    "# normalize Brazil data\n",
    "norm_brazil = (df_can_t['Brazil'] - df_can_t['Brazil'].min()) / (df_can_t['Brazil'].max() - df_can_t['Brazil'].min())\n",
    "\n",
    "# normalize Argentina data\n",
    "norm_argentina = (df_can_t['Argentina'] - df_can_t['Argentina'].min()) / (df_can_t['Argentina'].max() - df_can_t['Argentina'].min())"
   ]
  },
  {
   "cell_type": "markdown",
   "metadata": {
    "button": false,
    "new_sheet": false,
    "run_control": {
     "read_only": false
    }
   },
   "source": [
    "**Step 3**: Plot the data.\n",
    "\n",
    "*   To plot two different scatter plots in one plot, we can include the axes one plot into the other by passing it via the `ax` parameter.\n",
    "*   We will also pass in the weights using the `s` parameter. Given that the normalized weights are between 0-1, they won't be visible on the plot. Therefore, we will:\n",
    "    *   multiply weights by 2000 to scale it up on the graph, and,\n",
    "    *   add 10 to compensate for the min value (which has a 0 weight and therefore scale with $\\times 2000$).\n"
   ]
  },
  {
   "cell_type": "code",
   "execution_count": 41,
   "metadata": {
    "button": false,
    "collapsed": false,
    "jupyter": {
     "outputs_hidden": false
    },
    "new_sheet": false,
    "run_control": {
     "read_only": false
    }
   },
   "outputs": [
    {
     "data": {
      "text/plain": [
       "<matplotlib.legend.Legend at 0x7f0e0527c358>"
      ]
     },
     "execution_count": 41,
     "metadata": {},
     "output_type": "execute_result"
    },
    {
     "data": {
      "image/png": "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\n",
      "text/plain": [
       "<Figure size 1008x576 with 1 Axes>"
      ]
     },
     "metadata": {},
     "output_type": "display_data"
    }
   ],
   "source": [
    "# Brazil\n",
    "ax0 = df_can_t.plot(kind='scatter',\n",
    "                    x='Year',\n",
    "                    y='Brazil',\n",
    "                    figsize=(14, 8),\n",
    "                    alpha=0.5,  # transparency\n",
    "                    color='green',\n",
    "                    s=norm_brazil * 2000 + 10,  # pass in weights \n",
    "                    xlim=(1975, 2015)\n",
    "                    )\n",
    "\n",
    "# Argentina\n",
    "ax1 = df_can_t.plot(kind='scatter',\n",
    "                    x='Year',\n",
    "                    y='Argentina',\n",
    "                    alpha=0.5,\n",
    "                    color=\"blue\",\n",
    "                    s=norm_argentina * 2000 + 10,\n",
    "                    ax=ax0\n",
    "                    )\n",
    "\n",
    "ax0.set_ylabel('Number of Immigrants')\n",
    "ax0.set_title('Immigration from Brazil and Argentina from 1980 to 2013')\n",
    "ax0.legend(['Brazil', 'Argentina'], loc='upper left', fontsize='x-large')"
   ]
  },
  {
   "cell_type": "markdown",
   "metadata": {
    "button": false,
    "new_sheet": false,
    "run_control": {
     "read_only": false
    }
   },
   "source": [
    "The size of the bubble corresponds to the magnitude of immigrating population for that year, compared to the 1980 - 2013 data. The larger the bubble is, the more immigrants are in that year.\n",
    "\n",
    "From the plot above, we can see a corresponding increase in immigration from Argentina during the 1998 - 2002 great depression. We can also observe a similar spike around 1985 to 1993. In fact, Argentina had suffered a great depression from 1974 to 1990, just before the onset of 1998 - 2002 great depression.\n",
    "\n",
    "On a similar note, Brazil suffered the *Samba Effect* where the Brazilian real (currency) dropped nearly 35% in 1999. There was a fear of a South American financial crisis as many South American countries were heavily dependent on industrial exports from Brazil. The Brazilian government subsequently adopted an austerity program, and the economy slowly recovered over the years, culminating in a surge in 2010. The immigration data reflect these events.\n"
   ]
  },
  {
   "cell_type": "markdown",
   "metadata": {
    "button": false,
    "new_sheet": false,
    "run_control": {
     "read_only": false
    }
   },
   "source": [
    "**Question**: Previously in this lab, we created box plots to compare immigration from China and India to Canada. Create bubble plots of immigration from China and India to visualize any differences with time from 1980 to 2013. You can use **df_can_t** that we defined and used in the previous example.\n"
   ]
  },
  {
   "cell_type": "markdown",
   "metadata": {
    "button": false,
    "new_sheet": false,
    "run_control": {
     "read_only": false
    }
   },
   "source": [
    "Step 1: Normalize the data pertaining to China and India.\n"
   ]
  },
  {
   "cell_type": "code",
   "execution_count": 42,
   "metadata": {
    "button": false,
    "new_sheet": false,
    "run_control": {
     "read_only": false
    }
   },
   "outputs": [],
   "source": [
    "### type your answer here\n",
    "\n",
    "# normalized Chinese data\n",
    "norm_china = (df_can_t['China'] - df_can_t['China'].min()) / (df_can_t['China'].max() - df_can_t['China'].min())\n",
    "# normalized Indian data\n",
    "norm_india = (df_can_t['India'] - df_can_t['India'].min()) / (df_can_t['India'].max() - df_can_t['India'].min())\n",
    "\n"
   ]
  },
  {
   "cell_type": "markdown",
   "metadata": {
    "button": false,
    "new_sheet": false,
    "run_control": {
     "read_only": false
    }
   },
 
  },
  {
   "cell_type": "markdown",
   "metadata": {
    "button": false,
    "new_sheet": false,
    "run_control": {
     "read_only": false
    }
   },
   "source": [
    "Step 2: Generate the bubble plots.\n"
   ]
  },
  {
   "cell_type": "code",
   "execution_count": null,
   "metadata": {
    "button": false,
    "collapsed": false,
    "jupyter": {
     "outputs_hidden": false
    },
    "new_sheet": false,
    "run_control": {
     "read_only": false
    }
   },
   "outputs": [],
   "source": [
    "### type your answer here\n",
    "ax0 = df_can_t.plot(kind='scatter',\n",
    "                    x='Year',\n",
    "                    y='China',\n",
    "                    figsize=(14, 8),\n",
    "                    alpha=0.5,  # transparency\n",
    "                    color='green',\n",
    "                    s=norm_china * 2000 + 10,  # pass in weights \n",
    "                    xlim=(1975, 2015)\n",
    "                    )\n",
    "\n",
    "# Argentina\n",
    "ax1 = df_can_t.plot(kind='scatter',\n",
    "                    x='Year',\n",
    "                    y='India',\n",
    "                    alpha=0.5,\n",
    "                    color=\"blue\",\n",
    "                    s=norm_india * 2000 + 10,\n",
    "                    ax=ax0\n",
    "                    )\n",
    "\n",
    "ax0.set_ylabel('Number of Immigrants')\n",
    "ax0.set_title('Immigration from China and India from 1980 to 2013')\n",
    "ax0.legend(['Brazil', 'Argentina'], loc='upper left', fontsize='x-large')\n",
    "\n",
    "\n"
   ]
  },
  {
   "cell_type": "markdown",
   "metadata": {
    "button": false,
    "new_sheet": false,
    "run_control": {
     "read_only": false
    }
 },
  {
   "cell_type": "markdown",
   "metadata": {
    "button": false,
    "new_sheet": false,
    "run_control": {
     "read_only": false
    }
   },
   "source": [
    "### Thank you for completing this lab!\n",
    "\n",
    "## Author\n",
    "\n",
    "<a href=\"https://www.linkedin.com/in/aklson/?utm_medium=Exinfluencer&utm_source=Exinfluencer&utm_content=000026UJ&utm_term=10006555&utm_id=NA-SkillsNetwork-Channel-SkillsNetworkCoursesIBMDeveloperSkillsNetworkDV0101ENSkillsNetwork20297740-2021-01-01\" target=\"_blank\">Alex Aklson</a>\n",
    "\n",
    "### Other Contributors\n",
    "\n",
    "[Jay Rajasekharan](https://www.linkedin.com/in/jayrajasekharan?utm_medium=Exinfluencer&utm_source=Exinfluencer&utm_content=000026UJ&utm_term=10006555&utm_id=NA-SkillsNetwork-Channel-SkillsNetworkCoursesIBMDeveloperSkillsNetworkDV0101ENSkillsNetwork20297740-2021-01-01),\n",
    "[Ehsan M. Kermani](https://www.linkedin.com/in/ehsanmkermani?utm_medium=Exinfluencer&utm_source=Exinfluencer&utm_content=000026UJ&utm_term=10006555&utm_id=NA-SkillsNetwork-Channel-SkillsNetworkCoursesIBMDeveloperSkillsNetworkDV0101ENSkillsNetwork20297740-2021-01-01),\n",
    "[Slobodan Markovic](https://www.linkedin.com/in/slobodan-markovic?utm_medium=Exinfluencer&utm_source=Exinfluencer&utm_content=000026UJ&utm_term=10006555&utm_id=NA-SkillsNetwork-Channel-SkillsNetworkCoursesIBMDeveloperSkillsNetworkDV0101ENSkillsNetwork20297740-2021-01-01),\n",
    "[Weiqing Wang](https://www.linkedin.com/in/weiqing-wang-641640133?utm_medium=Exinfluencer&utm_source=Exinfluencer&utm_content=000026UJ&utm_term=10006555&utm_id=NA-SkillsNetwork-Channel-SkillsNetworkCoursesIBMDeveloperSkillsNetworkDV0101ENSkillsNetwork20297740-2021-01-01).\n",
    "\n",
    "## Change Log\n",
    "\n",
    "| Date (YYYY-MM-DD) | Version | Changed By   | Change Description                 |\n",
    "| ----------------- | ------- | ------------ | ---------------------------------- |\n",
    "| 2021-05-29        | 2.6     | Weiqing Wang | Fixed typos and code smells.       |\n",
    "| 2021-01-20        | 2.5     | LakshmiHolla | Changed TOC markdown section       |\n",
    "| 2021-01-05        | 2.4     | LakshmiHolla | Changed markdown for outliers      |\n",
    "| 2020-11-12        | 2.3     | LakshmiHolla | Added example code for outliers    |\n",
    "| 2020-11-03        | 2.2     | LakshmiHolla | Changed URL of excel file          |\n",
    "| 2020-09-29        | 2.1     | LakshmiHolla | Made fix to a boxplot label        |\n",
    "| 2020-08-27        | 2.0     | Lavanya      | Moved lab to course repo in GitLab |\n",
    "\n",
    "## <h3 align=\"center\"> © IBM Corporation 2020. All rights reserved. <h3/>\n"
   ]
  }
 ],
 "metadata": {
  "kernelspec": {
   "display_name": "Python",
   "language": "python",
   "name": "conda-env-python-py"
  },
  "language_info": {
   "codemirror_mode": {
    "name": "ipython",
    "version": 3
   },
   "file_extension": ".py",
   "mimetype": "text/x-python",
   "name": "python",
   "nbconvert_exporter": "python",
   "pygments_lexer": "ipython3",
   "version": "3.6.13"
  },
  "widgets": {
   "state": {},
   "version": "1.1.2"
  }
 },
 "nbformat": 4,
 "nbformat_minor": 4
}
